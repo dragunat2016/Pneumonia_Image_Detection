{
 "cells": [
  {
   "cell_type": "markdown",
   "metadata": {
    "id": "lLEHDTm6Mvvh"
   },
   "source": [
    "Final Project Submission\n",
    "</br>Please fill out:\n",
    "</br>Student name: Dhruv Ragunathan\n",
    "</br>Student pace: part time\n",
    "</br>Scheduled project review date/time: 11/16/2024\n",
    "</br>Instructor name: Mark Barbour\n",
    "</br>Blog post URL:"
   ]
  },
  {
   "cell_type": "markdown",
   "metadata": {
    "id": "U4KAb-JQMvvk"
   },
   "source": [
    "# Background"
   ]
  },
  {
   "cell_type": "markdown",
   "metadata": {
    "id": "HVNPn2g2Mvvk"
   },
   "source": [
    "Pneumonia is an infection that inflames the lungs from many potential vectors: Bacteria, Viruses, Fungi, etc. Pneumonia is a potentially fatal infection, that if not identified early on could put the patient's life at risk especially in acute-care settings.\n",
    "\n",
    "Data sets off lungs with Pneumonia and healthy lungs were provided by Guangzhou Women and Children’s Medical Center, Guangzhou.\n",
    "\n",
    "\n",
    "![image.png](Images/image.png)\n",
    "\n",
    "\n",
    "Figure S6. Illustrative Examples of Chest X-Rays in Patients with Pneumonia, Related to Figure 6\n",
    "The normal chest X-ray (left panel) depicts clear lungs without any areas of abnormal opacification in the image. Bacterial pneumonia (middle) typically exhibits a focal lobar consolidation, in this case in the right upper lobe (white arrows), whereas viral pneumonia (right) manifests with a more diffuse ‘‘interstitial’’ pattern in both lungs.\n",
    "\n",
    "The link to download the dataset is here. The dataset was downloaded from this link\n",
    "\n",
    "https://www.kaggle.com/datasets/paultimothymooney/chest-xray-pneumonia"
   ]
  },
  {
   "cell_type": "markdown",
   "metadata": {
    "id": "zgCQcQhhMvvm"
   },
   "source": [
    "# Business Objectives\n",
    "\n",
    "The goal is to create a model that accurately predicts if an X-ray of a lung has pneumonia. The model will optimize on two metrics:\n",
    "\n",
    "* Accuracy determines off the overall predictions how many were accurate. False positives in the context of this scenario mean that hospital staff will spend time checking with patients who don't have pneumonia. This could waste resources across the organization.\n",
    "* Recall indicates how many patients were identified to have pneumonia across the overall population of patients that have pneumonia. Having a high recall means you are identifying a high percentage of the patients that have pneumonia. This could correlate into more lives saved.\n",
    "\n",
    "The final model will be selected based on the accuracy and recall values. Recall will be prioritized over accuracy since saving lives is more important than limiting false positives.\n",
    "\n",
    "The model will be deployed in a hospital where time is critical. Identifying someone who has pneumonia hours before complications occur can save lives.\n"
   ]
  },
  {
   "cell_type": "markdown",
   "metadata": {
    "id": "-2gIrrwXMvvn"
   },
   "source": [
    "# Data Exploration\n",
    "\n",
    "Data contains 3 data sets, train, test, and validation. In each file, there are two folders: Pneumonia and normal. Images in the Pneumonia file are named depending on whether the source off the infection is bacterial or viral.\n",
    "\n",
    "First separate them out based on whether they are normal or have pneumonia.\n",
    "\n",
    "The images that contain pneumonia are divided based on whether the cause off the ailment was bacterial or viral. Since the purpose of the model is too determine whether Pneumonia is present, we will not distinguish or aim to predict the source off the pneumonia."
   ]
  },
  {
   "cell_type": "markdown",
   "metadata": {
    "id": "mjH-5HMsHc5i"
   },
   "source": [
    "## Google Colab Code\n",
    "\n",
    "This is the code ran on to import the files into google colab. It is commented out for convenience."
   ]
  },
  {
   "cell_type": "code",
   "execution_count": 2,
   "metadata": {
    "colab": {
     "base_uri": "https://localhost:8080/"
    },
    "id": "ZkRL52UTHE4p",
    "outputId": "32ecc7ed-8a83-412b-c113-317ab073c980"
   },
   "outputs": [
    {
     "data": {
      "text/plain": [
       "\"\\n\\nfrom google.colab import drive\\ndrive.mount('/content/gdrive')\\n\\n\""
      ]
     },
     "execution_count": 2,
     "metadata": {},
     "output_type": "execute_result"
    }
   ],
   "source": [
    "\"\"\"\n",
    "\n",
    "from google.colab import drive\n",
    "drive.mount('/content/gdrive')\n",
    "\n",
    "\"\"\""
   ]
  },
  {
   "cell_type": "code",
   "execution_count": 3,
   "metadata": {
    "colab": {
     "base_uri": "https://localhost:8080/"
    },
    "id": "w5_cCwkIHWGr",
    "outputId": "8b09add1-f51a-49d2-a73a-d905491a805f"
   },
   "outputs": [],
   "source": [
    "#%cd gdrive/My Drive/Pneumonia_Image_Detection/Pneumonia_Image_Detection"
   ]
  },
  {
   "cell_type": "code",
   "execution_count": 2,
   "metadata": {
    "id": "cwweYlmHMvvo"
   },
   "outputs": [],
   "source": [
    "# Import data sets\n",
    "\n",
    "import os, shutil\n",
    "import time\n",
    "import matplotlib.pyplot as plt\n",
    "import pandas as pd\n",
    "import scipy\n",
    "import numpy as np\n",
    "import seaborn as sns\n",
    "from PIL import Image\n",
    "from scipy import ndimage\n",
    "import tensorflow as tf\n",
    "from tensorflow import keras\n",
    "from keras.preprocessing.image import ImageDataGenerator, array_to_img, img_to_array, load_img\n",
    "from keras import models\n",
    "from keras import layers\n",
    "from keras.preprocessing import image\n",
    "from sklearn.model_selection import train_test_split\n",
    "from sklearn. metrics import recall_score, confusion_matrix\n",
    "np.random.seed(42)"
   ]
  },
  {
   "cell_type": "code",
   "execution_count": 3,
   "metadata": {
    "id": "ul7-tpA9Mvvp"
   },
   "outputs": [],
   "source": [
    "folders = {}\n",
    "train = {}\n",
    "test = {}\n",
    "test = {}\n",
    "val = {}\n",
    "\n",
    "main_folder = \"chest_xray\"\n",
    "\n",
    "train_folder = main_folder + \"/train\"\n",
    "train_P = train_folder + \"/PNEUMONIA\"\n",
    "train_N = train_folder + \"/NORMAL\"\n",
    "\n",
    "test_folder = main_folder + \"/test\"\n",
    "test_P = test_folder + \"/PNEUMONIA\"\n",
    "test_N = test_folder + \"/NORMAL\"\n",
    "\n",
    "val_folder = main_folder + \"/val\"\n",
    "val_P = val_folder + \"/PNEUMONIA\"\n",
    "val_N = val_folder + \"/NORMAL\"\n",
    "\n",
    "\n",
    "pneu_folds = [train_P,test_P,val_P] #put all pneumonia file paths in one list\n",
    "\n",
    "normal_folds = [train_N,test_N,val_N] #Put all normal file paths in one list\n",
    "\n",
    "all_folds = [pneu_folds,normal_folds]\n",
    "\n",
    "\n"
   ]
  },
  {
   "cell_type": "code",
   "execution_count": 4,
   "metadata": {
    "id": "X5_LBeoFMvvq"
   },
   "outputs": [],
   "source": [
    "\"\"\"\n",
    "\n",
    "The code below looks at all the file paths. It counts the number of images in each file path and determines\n",
    "the total number of images with pneumonia or that are normal.\n",
    "\n",
    "\"\"\"\n",
    "\n",
    "\n",
    "\n",
    "total_normal = 0\n",
    "total_pneumonia = 0\n",
    "\n",
    "total_train_P = 0\n",
    "total_train_N = 0\n",
    "\n",
    "total_test_P = 0\n",
    "total_test_N = 0\n",
    "\n",
    "total_val_P = 0\n",
    "total_val_N = 0\n",
    "\n",
    "for folders in all_folds:\n",
    "\n",
    "    for file_path in folders:\n",
    "\n",
    "        folder = file_path.split(\"/\") #Split the file path based on the /\n",
    "\n",
    "        folder_name = folder[2] # Tells us if the folder is for PNEUMONIA or Normal Images\n",
    "        folder_data = folder[1] # Tells us if the folder is for the training, testing, or val data\n",
    "\n",
    "        if folder_name == 'PNEUMONIA':\n",
    "\n",
    "            num_imgs = len([file for file in os.listdir(file_path) if file.endswith('.jpeg')])\n",
    "\n",
    "\n",
    "            total_pneumonia = total_pneumonia + num_imgs\n",
    "\n",
    "            if folder_data == 'train':\n",
    "\n",
    "                total_train_P = num_imgs\n",
    "\n",
    "            if folder_data == 'test':\n",
    "\n",
    "                total_test_P = num_imgs\n",
    "\n",
    "\n",
    "            if folder_data == 'val':\n",
    "\n",
    "                total_val_P = num_imgs\n",
    "\n",
    "\n",
    "        if folder_name == 'NORMAL':\n",
    "\n",
    "            num_imgs = len([file for file in os.listdir(file_path) if file.endswith('.jpeg')])\n",
    "\n",
    "            total_normal = total_normal + num_imgs\n",
    "\n",
    "            if folder_data == 'train':\n",
    "\n",
    "                total_train_N = num_imgs\n",
    "\n",
    "            if folder_data == 'test':\n",
    "\n",
    "                total_test_N = num_imgs\n",
    "\n",
    "\n",
    "            if folder_data == 'val':\n",
    "\n",
    "                total_val_N = num_imgs\n",
    "\n",
    "\n",
    "total_images = total_pneumonia + total_normal\n",
    "\n",
    "\n"
   ]
  },
  {
   "cell_type": "code",
   "execution_count": 5,
   "metadata": {
    "colab": {
     "base_uri": "https://localhost:8080/"
    },
    "id": "t7gbctpuMvvr",
    "outputId": "5a654f65-d1ce-45ec-f109-c3803fca1f57"
   },
   "outputs": [
    {
     "name": "stdout",
     "output_type": "stream",
     "text": [
      "There are 5856 images total\n",
      "There are 4273 lungs with pneumonia\n",
      "There are 1583 lungs without pneumonia\n"
     ]
    }
   ],
   "source": [
    "print('There are',total_images, 'images total')\n",
    "\n",
    "print('There are',total_pneumonia, 'lungs with pneumonia')\n",
    "\n",
    "print('There are',total_normal, 'lungs without pneumonia')"
   ]
  },
  {
   "cell_type": "code",
   "execution_count": 6,
   "metadata": {
    "colab": {
     "base_uri": "https://localhost:8080/"
    },
    "id": "XD5vMmIpMvvt",
    "outputId": "743c1533-3aea-42a1-9bf3-b224c4fddacd"
   },
   "outputs": [
    {
     "name": "stdout",
     "output_type": "stream",
     "text": [
      "In the train data set the split between pneumonia and normal lungs is  3875  and  1341  respectively.\n",
      "In the test data set the split between pneumonia and normal lungs is  390  and  234  respectively.\n",
      "In the validation data set the split between pneumonia and normal lungs is  8  and  8  respectively.\n"
     ]
    }
   ],
   "source": [
    "total_train_P\n",
    "total_train_N\n",
    "\n",
    "total_test_P\n",
    "total_test_N\n",
    "\n",
    "total_val_P\n",
    "total_val_N\n",
    "\n",
    "\n",
    "print('In the train data set the split between pneumonia and normal lungs is ',total_train_P,' and ',total_train_N,' respectively.')\n",
    "print('In the test data set the split between pneumonia and normal lungs is ',total_test_P,' and ',total_test_N,' respectively.')\n",
    "print('In the validation data set the split between pneumonia and normal lungs is ',total_val_P,' and ',total_val_N,' respectively.')"
   ]
  },
  {
   "cell_type": "markdown",
   "metadata": {
    "id": "XMC8jrcgcUcq"
   },
   "source": [
    "The split between the training, testing, and validation data is not ideal. The data in the validation dataset is miniscule (16) compared to the training and testing set (~5200 and ~600, respectively). Later we will combine the data before doing train-test splits."
   ]
  },
  {
   "cell_type": "code",
   "execution_count": 7,
   "metadata": {
    "colab": {
     "base_uri": "https://localhost:8080/",
     "height": 469
    },
    "id": "kY28LWECMvvu",
    "outputId": "8a60cb1d-6a33-43ee-f5f8-8832657a0880"
   },
   "outputs": [
    {
     "data": {
      "text/plain": [
       "<BarContainer object of 2 artists>"
      ]
     },
     "execution_count": 7,
     "metadata": {},
     "output_type": "execute_result"
    },
    {
     "data": {
      "image/png": "[encoded data removed]",
      "text/plain": [
       "<Figure size 432x288 with 1 Axes>"
      ]
     },
     "metadata": {
      "needs_background": "light"
     },
     "output_type": "display_data"
    }
   ],
   "source": [
    "# Visualize total number of infected lungs versus uninfected\n",
    "\n",
    "plt.title(\"Number of lungs with Pneumonia versus Normal Lungs\")\n",
    "plt.bar([\"Total Lungs with Pneumonia\", \"Total Lungs without Pneumonia\"], [total_pneumonia,total_normal], color = [\"r\",\"b\"])"
   ]
  },
  {
   "cell_type": "markdown",
   "metadata": {
    "id": "5fr3YrGaMvvu"
   },
   "source": [
    "The number of lungs with pneumonia is nearly 3 times greater than the number of lungs without. This means that if a model predicted that every image had pneumonia on this data set, it would be accurate 75% of the time. This context is important when evaluating the models in the latter part of the notebook."
   ]
  },
  {
   "cell_type": "markdown",
   "metadata": {
    "id": "7A_3dbgkMvvu"
   },
   "source": [
    "# Data Preparation"
   ]
  },
  {
   "cell_type": "markdown",
   "metadata": {
    "id": "4QE8y0HWMvvu"
   },
   "source": [
    "The Process to prepare the data was as follows:\n",
    "1. First we used Image Data Generator on the images in the test, train, and val data.\n",
    "2. Then we created the labels for the target variable. Whether an xray is for a patient with Pneumonia or not.\n",
    "3. Due to the disparities between the given training, testing, and val set, all data was combined into one dataset.\n",
    "4. Data then split into training and testing sets. Since Neural Networks are computationally expensive. Two train test splits were done too reduce the size. The final training data set contained nearly 2500 images."
   ]
  },
  {
   "cell_type": "code",
   "execution_count": 8,
   "metadata": {
    "colab": {
     "base_uri": "https://localhost:8080/"
    },
    "id": "t8mF9fV6Mvvu",
    "outputId": "29fc9b47-12dc-4bab-d7e4-970833f471ee"
   },
   "outputs": [
    {
     "name": "stdout",
     "output_type": "stream",
     "text": [
      "Found 624 images belonging to 2 classes.\n",
      "Found 16 images belonging to 2 classes.\n",
      "Found 5216 images belonging to 2 classes.\n"
     ]
    }
   ],
   "source": [
    "# get all the data in the directory split/test (624 images), and reshape them\n",
    "test_generator = ImageDataGenerator(rescale=1./255).flow_from_directory(\n",
    "        test_folder,\n",
    "         batch_size = 624)\n",
    "\n",
    "# get all the data in the directory split/validation (16 images), and reshape them\n",
    "val_generator = ImageDataGenerator(rescale=1./255).flow_from_directory(\n",
    "        val_folder,\n",
    "        batch_size = 16)\n",
    "\n",
    "# get all the data in the directory split/train (5216 images), and reshape them\n",
    "train_generator = ImageDataGenerator(rescale=1./255).flow_from_directory(\n",
    "        train_folder,\n",
    "        batch_size=5216)"
   ]
  },
  {
   "cell_type": "code",
   "execution_count": 9,
   "metadata": {
    "id": "q_15j_gIMvvv"
   },
   "outputs": [],
   "source": [
    "# create the data sets\n",
    "train_images, train_labels = next(train_generator)\n",
    "test_images, test_labels = next(test_generator)\n",
    "val_images, val_labels = next(val_generator)"
   ]
  },
  {
   "cell_type": "code",
   "execution_count": 10,
   "metadata": {
    "colab": {
     "base_uri": "https://localhost:8080/"
    },
    "id": "LzZ2WMdaMvvv",
    "outputId": "50aa2198-1629-4012-c3e5-6c02eb382f57"
   },
   "outputs": [
    {
     "name": "stdout",
     "output_type": "stream",
     "text": [
      "Number of training samples: 5216\n",
      "Number of testing samples: 624\n",
      "Number of validation samples: 16\n",
      "train_images shape: (5216, 256, 256, 3)\n",
      "train_labels shape: (5216, 2)\n",
      "test_images shape: (624, 256, 256, 3)\n",
      "test_labels shape: (624, 2)\n",
      "val_images shape: (16, 256, 256, 3)\n",
      "val_labels shape: (16, 2)\n"
     ]
    }
   ],
   "source": [
    "# Explore your dataset again\n",
    "m_train = train_images.shape[0]\n",
    "num_px = train_images.shape[1]\n",
    "m_test = test_images.shape[0]\n",
    "m_val = val_images.shape[0]\n",
    "\n",
    "print (\"Number of training samples: \" + str(m_train))\n",
    "print (\"Number of testing samples: \" + str(m_test))\n",
    "print (\"Number of validation samples: \" + str(m_val))\n",
    "print (\"train_images shape: \" + str(train_images.shape))\n",
    "print (\"train_labels shape: \" + str(train_labels.shape))\n",
    "print (\"test_images shape: \" + str(test_images.shape))\n",
    "print (\"test_labels shape: \" + str(test_labels.shape))\n",
    "print (\"val_images shape: \" + str(val_images.shape))\n",
    "print (\"val_labels shape: \" + str(val_labels.shape))"
   ]
  },
  {
   "cell_type": "code",
   "execution_count": 11,
   "metadata": {
    "id": "sjsLaGkVMvvw"
   },
   "outputs": [],
   "source": [
    "# combine three original datasets into one for data and labels\n",
    "X = np.concatenate((train_images, test_images, val_images))\n",
    "y_labels = np.concatenate((train_labels, test_labels, val_labels))"
   ]
  },
  {
   "cell_type": "code",
   "execution_count": 12,
   "metadata": {
    "colab": {
     "base_uri": "https://localhost:8080/"
    },
    "id": "4ZoLA7L6Mvvw",
    "outputId": "5af46ff9-a794-44e3-ca13-459a37773fe6"
   },
   "outputs": [
    {
     "data": {
      "text/plain": [
       "(5856, 256, 256, 3)"
      ]
     },
     "execution_count": 12,
     "metadata": {},
     "output_type": "execute_result"
    }
   ],
   "source": [
    "# total dataset size\n",
    "X.shape"
   ]
  },
  {
   "cell_type": "code",
   "execution_count": 13,
   "metadata": {
    "id": "K1gAqAsn6wQr"
   },
   "outputs": [],
   "source": [
    "y = np.reshape(y_labels[:,0], (5856,1))"
   ]
  },
  {
   "cell_type": "code",
   "execution_count": 14,
   "metadata": {
    "colab": {
     "base_uri": "https://localhost:8080/"
    },
    "id": "OjdOdWPtMvvy",
    "outputId": "8af9c100-499e-42f0-f3b2-f636b96232e4"
   },
   "outputs": [
    {
     "name": "stdout",
     "output_type": "stream",
     "text": [
      "Number of training samples: 5216\n",
      "Number of testing samples: 624\n",
      "Number of validation samples: 16\n",
      "train_images shape: (5216, 256, 256, 3)\n",
      "train_labels shape: (5216, 2)\n",
      "test_images shape: (624, 256, 256, 3)\n",
      "test_labels shape: (624, 2)\n",
      "val_images shape: (16, 256, 256, 3)\n",
      "val_labels shape: (16, 2)\n"
     ]
    }
   ],
   "source": [
    "# Further Explore Dataset\n",
    "\n",
    "m_train = train_images.shape[0]\n",
    "num_px = train_images.shape[1]\n",
    "m_test = test_images.shape[0]\n",
    "m_val = val_images.shape[0]\n",
    "\n",
    "print (\"Number of training samples: \" + str(m_train))\n",
    "print (\"Number of testing samples: \" + str(m_test))\n",
    "print (\"Number of validation samples: \" + str(m_val))\n",
    "print (\"train_images shape: \" + str(train_images.shape))\n",
    "print (\"train_labels shape: \" + str(train_labels.shape))\n",
    "print (\"test_images shape: \" + str(test_images.shape))\n",
    "print (\"test_labels shape: \" + str(test_labels.shape))\n",
    "print (\"val_images shape: \" + str(val_images.shape))\n",
    "print (\"val_labels shape: \" + str(val_labels.shape))"
   ]
  },
  {
   "cell_type": "markdown",
   "metadata": {
    "id": "WHz6F4r8j2Hu"
   },
   "source": [
    "## Train - Test Data Split\n",
    "\n",
    "Using the full training data is not ideal to iteratively determine model parameters. The complete training set takes around 30 minutes to run with straightforward parameters (i.e. one convulution layer, one pooling layer, and one dense layer).\n",
    "\n",
    "The strategy here is too split the data set into a smaller chunk."
   ]
  },
  {
   "cell_type": "markdown",
   "metadata": {
    "id": "wd_x8gAZ4fhP"
   },
   "source": [
    "### Convolutional Neural Network Data Preparation\n",
    "\n",
    "Now we need to do a train test split to the data formatted for the Convolutional Neural Network."
   ]
  },
  {
   "cell_type": "code",
   "execution_count": 15,
   "metadata": {
    "id": "A9wWgtZVkTRD"
   },
   "outputs": [],
   "source": [
    "# First split the data into half.\n",
    "\n",
    "X_train_1, X_test_1, y_train_1, y_test_1 = train_test_split(X,y, test_size= 0.5)"
   ]
  },
  {
   "cell_type": "code",
   "execution_count": 16,
   "metadata": {
    "id": "CcieTYgck1jo"
   },
   "outputs": [],
   "source": [
    "# Then split again by 15%\n",
    "\n",
    "X_train_2, X_test_2, y_train_2, y_test_2 = train_test_split(X_train_1, y_train_1, test_size= 0.15)"
   ]
  },
  {
   "cell_type": "markdown",
   "metadata": {
    "id": "a18zm3TCMvv2"
   },
   "source": [
    "# Modeling"
   ]
  },
  {
   "cell_type": "markdown",
   "metadata": {
    "id": "3MLJIApLoQQh"
   },
   "source": [
    "## First Convolution Neural Network\n",
    "\n",
    "Base model is a simple convolution neural network. Contains one convolution layer, one pooling layer, and 10 neurons in the dense layer.\n",
    "\n",
    "This model has achieved a ~95% accuracy on the training data set and a 93% accuracy on the testing data set. The training and testing recalls were 90% and 87%, respectively."
   ]
  },
  {
   "cell_type": "code",
   "execution_count": 18,
   "metadata": {
    "id": "jWJH_J-ZsQw_"
   },
   "outputs": [],
   "source": [
    "model_cnn_1 = models.Sequential()\n",
    "\n",
    "# add convolutional and pooling layers\n",
    "model_cnn_1.add(layers.Conv2D(8, (4, 4), activation='relu',\n",
    "                        input_shape=(256 ,256,  3)))\n",
    "model_cnn_1.add(layers.MaxPooling2D((2, 2)))\n",
    "\n",
    "# flatten pooled featrue maps\n",
    "model_cnn_1.add(layers.Flatten())\n",
    "\n",
    "# add dense hidden layer and output\n",
    "model_cnn_1.add(layers.Dense(10, activation='relu'))\n",
    "model_cnn_1.add(layers.Dense(1, activation='sigmoid'))"
   ]
  },
  {
   "cell_type": "code",
   "execution_count": 19,
   "metadata": {
    "id": "NLNtYqT9saIY"
   },
   "outputs": [],
   "source": [
    "# compile model\n",
    "model_cnn_1.compile(optimizer='sgd',\n",
    "              loss='binary_crossentropy',\n",
    "              metrics=['accuracy','Recall'])"
   ]
  },
  {
   "cell_type": "code",
   "execution_count": 20,
   "metadata": {
    "colab": {
     "base_uri": "https://localhost:8080/"
    },
    "id": "F6CDzYdssgvK",
    "outputId": "7668035c-7a9a-44c5-c2e2-bfdd83a04e2b"
   },
   "outputs": [
    {
     "name": "stdout",
     "output_type": "stream",
     "text": [
      "Epoch 1/30\n",
      "78/78 [==============================] - 53s 683ms/step - loss: 0.5712 - accuracy: 0.7227 - recall: 0.0227 - val_loss: 0.5620 - val_accuracy: 0.6795 - val_recall: 0.0000e+00\n",
      "Epoch 2/30\n",
      "78/78 [==============================] - 57s 727ms/step - loss: 0.4322 - accuracy: 0.7424 - recall: 0.0393 - val_loss: 0.6147 - val_accuracy: 0.7068 - val_recall: 0.0851\n",
      "Epoch 3/30\n",
      "78/78 [==============================] - 48s 615ms/step - loss: 0.4022 - accuracy: 0.8075 - recall: 0.6888 - val_loss: 0.3597 - val_accuracy: 0.8682 - val_recall: 0.6170\n",
      "Epoch 4/30\n",
      "78/78 [==============================] - 39s 506ms/step - loss: 0.3612 - accuracy: 0.8637 - recall: 0.6994 - val_loss: 0.3894 - val_accuracy: 0.8909 - val_recall: 0.9574\n",
      "Epoch 5/30\n",
      "78/78 [==============================] - 39s 494ms/step - loss: 0.3291 - accuracy: 0.8855 - recall: 0.7508 - val_loss: 0.3229 - val_accuracy: 0.9136 - val_recall: 0.8227\n",
      "Epoch 6/30\n",
      "78/78 [==============================] - 39s 496ms/step - loss: 0.3162 - accuracy: 0.8907 - recall: 0.7704 - val_loss: 0.3073 - val_accuracy: 0.9136 - val_recall: 0.8156\n",
      "Epoch 7/30\n",
      "78/78 [==============================] - 38s 492ms/step - loss: 0.2943 - accuracy: 0.9043 - recall: 0.7915 - val_loss: 0.3089 - val_accuracy: 0.9227 - val_recall: 0.9007\n",
      "Epoch 8/30\n",
      "78/78 [==============================] - 38s 483ms/step - loss: 0.2906 - accuracy: 0.8995 - recall: 0.8218 - val_loss: 0.3246 - val_accuracy: 0.8955 - val_recall: 0.7092\n",
      "Epoch 9/30\n",
      "78/78 [==============================] - 43s 548ms/step - loss: 0.2799 - accuracy: 0.9080 - recall: 0.8157 - val_loss: 0.2850 - val_accuracy: 0.9205 - val_recall: 0.8369\n",
      "Epoch 10/30\n",
      "78/78 [==============================] - 52s 673ms/step - loss: 0.2639 - accuracy: 0.9160 - recall: 0.8369 - val_loss: 0.2760 - val_accuracy: 0.9250 - val_recall: 0.8511\n",
      "Epoch 11/30\n",
      "78/78 [==============================] - 722s 9s/step - loss: 0.2565 - accuracy: 0.9208 - recall: 0.8384 - val_loss: 0.2721 - val_accuracy: 0.9341 - val_recall: 0.9007\n",
      "Epoch 12/30\n",
      "78/78 [==============================] - 41s 531ms/step - loss: 0.2555 - accuracy: 0.9184 - recall: 0.8399 - val_loss: 0.2730 - val_accuracy: 0.9295 - val_recall: 0.8936\n",
      "Epoch 13/30\n",
      "78/78 [==============================] - 40s 510ms/step - loss: 0.2496 - accuracy: 0.9236 - recall: 0.8308 - val_loss: 0.2846 - val_accuracy: 0.9136 - val_recall: 0.9220\n",
      "Epoch 14/30\n",
      "78/78 [==============================] - 41s 521ms/step - loss: 0.2408 - accuracy: 0.9273 - recall: 0.8414 - val_loss: 0.5137 - val_accuracy: 0.7182 - val_recall: 1.0000\n",
      "Epoch 15/30\n",
      "78/78 [==============================] - 42s 535ms/step - loss: 0.2392 - accuracy: 0.9297 - recall: 0.8656 - val_loss: 0.2540 - val_accuracy: 0.9386 - val_recall: 0.8582\n",
      "Epoch 16/30\n",
      "78/78 [==============================] - 40s 507ms/step - loss: 0.2359 - accuracy: 0.9256 - recall: 0.8550 - val_loss: 0.2557 - val_accuracy: 0.9250 - val_recall: 0.9007\n",
      "Epoch 17/30\n",
      "78/78 [==============================] - 38s 486ms/step - loss: 0.2267 - accuracy: 0.9289 - recall: 0.8640 - val_loss: 0.2445 - val_accuracy: 0.9295 - val_recall: 0.8865\n",
      "Epoch 18/30\n",
      "78/78 [==============================] - 39s 501ms/step - loss: 0.2199 - accuracy: 0.9353 - recall: 0.8656 - val_loss: 0.2460 - val_accuracy: 0.9364 - val_recall: 0.8440\n",
      "Epoch 19/30\n",
      "78/78 [==============================] - 39s 498ms/step - loss: 0.2136 - accuracy: 0.9349 - recall: 0.8686 - val_loss: 0.2565 - val_accuracy: 0.9205 - val_recall: 0.9362\n",
      "Epoch 20/30\n",
      "78/78 [==============================] - 41s 522ms/step - loss: 0.2088 - accuracy: 0.9389 - recall: 0.8852 - val_loss: 0.2354 - val_accuracy: 0.9250 - val_recall: 0.9149\n",
      "Epoch 21/30\n",
      "78/78 [==============================] - 39s 495ms/step - loss: 0.2002 - accuracy: 0.9373 - recall: 0.8671 - val_loss: 0.2873 - val_accuracy: 0.8977 - val_recall: 0.7163\n",
      "Epoch 22/30\n",
      "78/78 [==============================] - 39s 496ms/step - loss: 0.2029 - accuracy: 0.9413 - recall: 0.8822 - val_loss: 0.2258 - val_accuracy: 0.9364 - val_recall: 0.8794\n",
      "Epoch 23/30\n",
      "78/78 [==============================] - 38s 487ms/step - loss: 0.1989 - accuracy: 0.9393 - recall: 0.8852 - val_loss: 0.2231 - val_accuracy: 0.9318 - val_recall: 0.8723\n",
      "Epoch 24/30\n",
      "78/78 [==============================] - 38s 484ms/step - loss: 0.1957 - accuracy: 0.9429 - recall: 0.8958 - val_loss: 0.2212 - val_accuracy: 0.9364 - val_recall: 0.8723\n",
      "Epoch 25/30\n",
      "78/78 [==============================] - 39s 498ms/step - loss: 0.1906 - accuracy: 0.9465 - recall: 0.8912 - val_loss: 0.2271 - val_accuracy: 0.9341 - val_recall: 0.8440\n",
      "Epoch 26/30\n",
      "78/78 [==============================] - 47s 600ms/step - loss: 0.1880 - accuracy: 0.9433 - recall: 0.8958 - val_loss: 0.2190 - val_accuracy: 0.9341 - val_recall: 0.8511\n",
      "Epoch 27/30\n",
      "78/78 [==============================] - 50s 645ms/step - loss: 0.1895 - accuracy: 0.9421 - recall: 0.8927 - val_loss: 0.2138 - val_accuracy: 0.9250 - val_recall: 0.8936\n",
      "Epoch 28/30\n",
      "78/78 [==============================] - 1162s 15s/step - loss: 0.1761 - accuracy: 0.9522 - recall: 0.9124 - val_loss: 0.2107 - val_accuracy: 0.9295 - val_recall: 0.9220\n",
      "Epoch 29/30\n",
      "78/78 [==============================] - 41s 523ms/step - loss: 0.1743 - accuracy: 0.9486 - recall: 0.9048 - val_loss: 0.2612 - val_accuracy: 0.9068 - val_recall: 0.9645\n",
      "Epoch 30/30\n",
      "78/78 [==============================] - 39s 497ms/step - loss: 0.1759 - accuracy: 0.9465 - recall: 0.9033 - val_loss: 0.2041 - val_accuracy: 0.9341 - val_recall: 0.8723\n"
     ]
    }
   ],
   "source": [
    "# fit model to training data and validate\n",
    "cnn_history_1 = model_cnn_1.fit(X_train_2,\n",
    "                    y_train_2,\n",
    "                    epochs=30,\n",
    "                    batch_size=32,\n",
    "                    validation_data=(X_test_2, y_test_2))"
   ]
  },
  {
   "cell_type": "code",
   "execution_count": 21,
   "metadata": {
    "id": "lYp8hfYEqNVK"
   },
   "outputs": [],
   "source": [
    "#model_cnn_1.save('Models/model_cnn_1.keras')"
   ]
  },
  {
   "cell_type": "code",
   "execution_count": 17,
   "metadata": {
    "id": "tKKxb858UlgU"
   },
   "outputs": [
    {
     "ename": "OSError",
     "evalue": "SavedModel file does not exist at: Models/model_cnn_1.keras/{saved_model.pbtxt|saved_model.pb}",
     "output_type": "error",
     "traceback": [
      "\u001b[0;31m---------------------------------------------------------------------------\u001b[0m",
      "\u001b[0;31mOSError\u001b[0m                                   Traceback (most recent call last)",
      "\u001b[0;32m<ipython-input-17-1e1a0c002a15>\u001b[0m in \u001b[0;36m<module>\u001b[0;34m\u001b[0m\n\u001b[0;32m----> 1\u001b[0;31m \u001b[0mmodel_cnn_1\u001b[0m \u001b[0;34m=\u001b[0m \u001b[0mmodels\u001b[0m\u001b[0;34m.\u001b[0m\u001b[0mload_model\u001b[0m\u001b[0;34m(\u001b[0m\u001b[0;34m'Models/model_cnn_1.keras'\u001b[0m\u001b[0;34m)\u001b[0m\u001b[0;34m\u001b[0m\u001b[0;34m\u001b[0m\u001b[0m\n\u001b[0m",
      "\u001b[0;32m~/opt/anaconda3/envs/learn-env/lib/python3.8/site-packages/tensorflow/python/keras/saving/save.py\u001b[0m in \u001b[0;36mload_model\u001b[0;34m(filepath, custom_objects, compile, options)\u001b[0m\n\u001b[1;32m    184\u001b[0m     \u001b[0mfilepath\u001b[0m \u001b[0;34m=\u001b[0m \u001b[0mpath_to_string\u001b[0m\u001b[0;34m(\u001b[0m\u001b[0mfilepath\u001b[0m\u001b[0;34m)\u001b[0m\u001b[0;34m\u001b[0m\u001b[0;34m\u001b[0m\u001b[0m\n\u001b[1;32m    185\u001b[0m     \u001b[0;32mif\u001b[0m \u001b[0misinstance\u001b[0m\u001b[0;34m(\u001b[0m\u001b[0mfilepath\u001b[0m\u001b[0;34m,\u001b[0m \u001b[0msix\u001b[0m\u001b[0;34m.\u001b[0m\u001b[0mstring_types\u001b[0m\u001b[0;34m)\u001b[0m\u001b[0;34m:\u001b[0m\u001b[0;34m\u001b[0m\u001b[0;34m\u001b[0m\u001b[0m\n\u001b[0;32m--> 186\u001b[0;31m       \u001b[0mloader_impl\u001b[0m\u001b[0;34m.\u001b[0m\u001b[0mparse_saved_model\u001b[0m\u001b[0;34m(\u001b[0m\u001b[0mfilepath\u001b[0m\u001b[0;34m)\u001b[0m\u001b[0;34m\u001b[0m\u001b[0;34m\u001b[0m\u001b[0m\n\u001b[0m\u001b[1;32m    187\u001b[0m       \u001b[0;32mreturn\u001b[0m \u001b[0msaved_model_load\u001b[0m\u001b[0;34m.\u001b[0m\u001b[0mload\u001b[0m\u001b[0;34m(\u001b[0m\u001b[0mfilepath\u001b[0m\u001b[0;34m,\u001b[0m \u001b[0mcompile\u001b[0m\u001b[0;34m,\u001b[0m \u001b[0moptions\u001b[0m\u001b[0;34m)\u001b[0m\u001b[0;34m\u001b[0m\u001b[0;34m\u001b[0m\u001b[0m\n\u001b[1;32m    188\u001b[0m \u001b[0;34m\u001b[0m\u001b[0m\n",
      "\u001b[0;32m~/opt/anaconda3/envs/learn-env/lib/python3.8/site-packages/tensorflow/python/saved_model/loader_impl.py\u001b[0m in \u001b[0;36mparse_saved_model\u001b[0;34m(export_dir)\u001b[0m\n\u001b[1;32m    108\u001b[0m       \u001b[0;32mraise\u001b[0m \u001b[0mIOError\u001b[0m\u001b[0;34m(\u001b[0m\u001b[0;34m\"Cannot parse file %s: %s.\"\u001b[0m \u001b[0;34m%\u001b[0m \u001b[0;34m(\u001b[0m\u001b[0mpath_to_pbtxt\u001b[0m\u001b[0;34m,\u001b[0m \u001b[0mstr\u001b[0m\u001b[0;34m(\u001b[0m\u001b[0me\u001b[0m\u001b[0;34m)\u001b[0m\u001b[0;34m)\u001b[0m\u001b[0;34m)\u001b[0m\u001b[0;34m\u001b[0m\u001b[0;34m\u001b[0m\u001b[0m\n\u001b[1;32m    109\u001b[0m   \u001b[0;32melse\u001b[0m\u001b[0;34m:\u001b[0m\u001b[0;34m\u001b[0m\u001b[0;34m\u001b[0m\u001b[0m\n\u001b[0;32m--> 110\u001b[0;31m     raise IOError(\"SavedModel file does not exist at: %s/{%s|%s}\" %\n\u001b[0m\u001b[1;32m    111\u001b[0m                   (export_dir,\n\u001b[1;32m    112\u001b[0m                    \u001b[0mconstants\u001b[0m\u001b[0;34m.\u001b[0m\u001b[0mSAVED_MODEL_FILENAME_PBTXT\u001b[0m\u001b[0;34m,\u001b[0m\u001b[0;34m\u001b[0m\u001b[0;34m\u001b[0m\u001b[0m\n",
      "\u001b[0;31mOSError\u001b[0m: SavedModel file does not exist at: Models/model_cnn_1.keras/{saved_model.pbtxt|saved_model.pb}"
     ]
    }
   ],
   "source": [
    "model_cnn_1 = models.load_model('Models/model_cnn_1.keras')"
   ]
  },
  {
   "cell_type": "code",
   "execution_count": 23,
   "metadata": {
    "colab": {
     "base_uri": "https://localhost:8080/"
    },
    "id": "J_jAVJ8LMvv4",
    "outputId": "c29c9c65-69c4-45e1-de11-853eebef0be2"
   },
   "outputs": [
    {
     "name": "stdout",
     "output_type": "stream",
     "text": [
      "78/78 [==============================] - 12s 155ms/step - loss: 0.1566 - accuracy: 0.9594 - recall: 0.9184\n"
     ]
    }
   ],
   "source": [
    "conv_results_train_1 = model_cnn_1.evaluate(X_train_2, y_train_2)"
   ]
  },
  {
   "cell_type": "code",
   "execution_count": null,
   "metadata": {},
   "outputs": [],
   "source": [
    "conv_results_test_1 = model_cnn_1.evaluate(X_test_1, y_test_1)"
   ]
  },
  {
   "cell_type": "code",
   "execution_count": null,
   "metadata": {
    "colab": {
     "base_uri": "https://localhost:8080/"
    },
    "id": "Xgk0UXc8Mvv5",
    "outputId": "e911f0d7-0673-45e3-9125-65328fa602c3"
   },
   "outputs": [],
   "source": [
    "conv_results_test_2 = model_cnn_1.evaluate(X_test_2, y_test_2)"
   ]
  },
  {
   "cell_type": "code",
   "execution_count": 27,
   "metadata": {
    "colab": {
     "base_uri": "https://localhost:8080/",
     "height": 246
    },
    "id": "bNfXcSKf-0Hb",
    "outputId": "d07072df-abdb-423f-bec1-1776b353646b"
   },
   "outputs": [
    {
     "data": {
      "image/png": "[encoded data removed]",
      "text/plain": [
       "<Figure size 432x288 with 1 Axes>"
      ]
     },
     "metadata": {
      "needs_background": "light"
     },
     "output_type": "display_data"
    }
   ],
   "source": [
    "cnn_model_1_val_dict = cnn_history_1.history\n",
    "loss_values1 = cnn_model_1_val_dict[\"loss\"]\n",
    "val_loss_values1= cnn_model_1_val_dict[\"val_loss\"]\n",
    "\n",
    "epochs = range(1,len(loss_values1) + 1)\n",
    "plt.plot(epochs, loss_values1, \"g\", label=\"Training loss\")\n",
    "plt.plot(epochs, val_loss_values1, \"blue\", label=\"Validation loss\")\n",
    "\n",
    "plt.title(\"Training and Validation loss\")\n",
    "plt.xlabel(\"Epochs\")\n",
    "plt.ylabel(\"Loss\")\n",
    "plt.legend()\n",
    "plt.show()"
   ]
  },
  {
   "cell_type": "code",
   "execution_count": 28,
   "metadata": {
    "colab": {
     "base_uri": "https://localhost:8080/",
     "height": 472
    },
    "id": "9Gxj2D8x_J46",
    "outputId": "b84e1df4-45f6-44a3-8611-2c2dde753995"
   },
   "outputs": [
    {
     "data": {
      "image/png": "[encoded data removed]",
      "text/plain": [
       "<Figure size 432x288 with 1 Axes>"
      ]
     },
     "metadata": {
      "needs_background": "light"
     },
     "output_type": "display_data"
    }
   ],
   "source": [
    "acc_values1 = cnn_model_1_val_dict[\"accuracy\"]\n",
    "val_acc_values1 = cnn_model_1_val_dict[\"val_accuracy\"]\n",
    "\n",
    "plt.plot(epochs, acc_values1, \"r\", label=\"Training acc\")\n",
    "plt.plot(epochs, val_acc_values1, \"blue\", label=\"Validation acc\")\n",
    "\n",
    "plt.title(\"Training and Validation accuracy\")\n",
    "plt.xlabel(\"Epochs\")\n",
    "plt.ylabel(\"Accuracy\")\n",
    "plt.legend()\n",
    "plt.show()"
   ]
  },
  {
   "cell_type": "code",
   "execution_count": 29,
   "metadata": {
    "colab": {
     "base_uri": "https://localhost:8080/",
     "height": 472
    },
    "id": "ifK4YjQyP7cF",
    "outputId": "9fc70951-6124-4086-a1bd-02abe35b7961"
   },
   "outputs": [
    {
     "data": {
      "image/png": "[encoded data removed]",
      "text/plain": [
       "<Figure size 432x288 with 1 Axes>"
      ]
     },
     "metadata": {
      "needs_background": "light"
     },
     "output_type": "display_data"
    }
   ],
   "source": [
    "Recall_values1 = cnn_model_1_val_dict[\"recall\"]\n",
    "val_Recall_values1 = cnn_model_1_val_dict[\"val_recall\"]\n",
    "\n",
    "plt.plot(epochs, Recall_values1, \"r\", label=\"Training Recall\")\n",
    "plt.plot(epochs, val_Recall_values1, \"blue\", label=\"Validation acc\")\n",
    "\n",
    "plt.title(\"Training and Validation Recall\")\n",
    "plt.xlabel(\"Epochs\")\n",
    "plt.ylabel(\"Recall\")\n",
    "plt.legend()\n",
    "plt.show()"
   ]
  },
  {
   "cell_type": "markdown",
   "metadata": {},
   "source": [
    "These were the values of the model.\n",
    "\n",
    "* Training Accuracy: 95%\n",
    "* Testing Accuracy: 93%\n",
    "* Training Recall: 90%\n",
    "* Testing Recall: 87%\n",
    "\n",
    "These are very good numbers for a baseline model. The training and testing accuracies are just a few percentage points off from one another. This does not imply significant overfitting. Let's see if we can improve on these numbers in the next iteration"
   ]
  },
  {
   "cell_type": "markdown",
   "metadata": {
    "id": "nNB358EiAzLW"
   },
   "source": [
    "## Second Colvolutional Neural Networks\n",
    "* Add two more Convolutional Layers\n",
    "* Increase Dense Layer to 30 neurons\n",
    "\n",
    "Accuracy of training and testing data is 96%."
   ]
  },
  {
   "cell_type": "code",
   "execution_count": 30,
   "metadata": {
    "id": "m9SKF8tiA_ae"
   },
   "outputs": [],
   "source": [
    "model_cnn_2 = models.Sequential()\n",
    "\n",
    "# add 3 convolutional and pooling layers\n",
    "model_cnn_2.add(layers.Conv2D(8, (4, 4), activation='relu',\n",
    "                        input_shape=(256 ,256,  3)))\n",
    "model_cnn_2.add(layers.MaxPooling2D((2, 2)))\n",
    "\n",
    "# Second Convolutional Layer\n",
    "\n",
    "model_cnn_2.add(layers.Conv2D(8, (4, 4), activation='relu',\n",
    "                        input_shape=(256 ,256,  3)))\n",
    "model_cnn_2.add(layers.MaxPooling2D((2, 2)))\n",
    "\n",
    "#Third Convolutional Layer\n",
    "\n",
    "model_cnn_2.add(layers.Conv2D(8, (4, 4), activation='relu',\n",
    "                        input_shape=(256 ,256,  3)))\n",
    "model_cnn_2.add(layers.MaxPooling2D((2, 2)))\n",
    "\n",
    "# flatten pooled featrue maps\n",
    "model_cnn_2.add(layers.Flatten())\n",
    "\n",
    "# add dense hidden layer and output\n",
    "model_cnn_2.add(layers.Dense(30, activation='relu'))\n",
    "model_cnn_2.add(layers.Dense(1, activation='sigmoid'))"
   ]
  },
  {
   "cell_type": "code",
   "execution_count": 31,
   "metadata": {
    "id": "zyaShW4cBnby"
   },
   "outputs": [],
   "source": [
    "# compile model\n",
    "model_cnn_2.compile(optimizer='sgd',\n",
    "              loss='binary_crossentropy',\n",
    "              metrics=['accuracy','Recall'])"
   ]
  },
  {
   "cell_type": "code",
   "execution_count": 32,
   "metadata": {
    "colab": {
     "base_uri": "https://localhost:8080/"
    },
    "id": "K_MSB_esB1KC",
    "outputId": "370b0538-f6db-4f13-e1fd-71b18ab2fa7f"
   },
   "outputs": [
    {
     "name": "stdout",
     "output_type": "stream",
     "text": [
      "Epoch 1/30\n",
      "78/78 [==============================] - 67s 855ms/step - loss: 0.5602 - accuracy: 0.7400 - recall: 0.0619 - val_loss: 0.5245 - val_accuracy: 0.6818 - val_recall: 0.0071\n",
      "Epoch 2/30\n",
      "78/78 [==============================] - 64s 818ms/step - loss: 0.4826 - accuracy: 0.7850 - recall: 0.3807 - val_loss: 0.7859 - val_accuracy: 0.3341 - val_recall: 1.0000\n",
      "Epoch 3/30\n",
      "78/78 [==============================] - 64s 815ms/step - loss: 0.4229 - accuracy: 0.8055 - recall: 0.5997 - val_loss: 0.3062 - val_accuracy: 0.8841 - val_recall: 0.7447\n",
      "Epoch 4/30\n",
      "78/78 [==============================] - 97s 1s/step - loss: 0.3198 - accuracy: 0.8617 - recall: 0.6798 - val_loss: 0.2549 - val_accuracy: 0.8795 - val_recall: 0.7234\n",
      "Epoch 5/30\n",
      "78/78 [==============================] - 67s 855ms/step - loss: 0.2705 - accuracy: 0.8895 - recall: 0.7749 - val_loss: 0.2281 - val_accuracy: 0.9023 - val_recall: 0.8723\n",
      "Epoch 6/30\n",
      "78/78 [==============================] - 67s 860ms/step - loss: 0.2564 - accuracy: 0.8955 - recall: 0.7885 - val_loss: 0.2360 - val_accuracy: 0.9159 - val_recall: 0.9078\n",
      "Epoch 7/30\n",
      "78/78 [==============================] - 68s 867ms/step - loss: 0.2217 - accuracy: 0.9076 - recall: 0.8172 - val_loss: 0.2094 - val_accuracy: 0.9159 - val_recall: 0.8582\n",
      "Epoch 8/30\n",
      "78/78 [==============================] - 1836s 24s/step - loss: 0.2234 - accuracy: 0.9088 - recall: 0.8112 - val_loss: 0.2137 - val_accuracy: 0.9182 - val_recall: 0.8227\n",
      "Epoch 9/30\n",
      "78/78 [==============================] - 85s 1s/step - loss: 0.2089 - accuracy: 0.9172 - recall: 0.8248 - val_loss: 0.2035 - val_accuracy: 0.9273 - val_recall: 0.9007\n",
      "Epoch 10/30\n",
      "78/78 [==============================] - 97s 1s/step - loss: 0.2118 - accuracy: 0.9188 - recall: 0.8444 - val_loss: 0.2375 - val_accuracy: 0.9159 - val_recall: 0.7872\n",
      "Epoch 11/30\n",
      "78/78 [==============================] - 109s 1s/step - loss: 0.2050 - accuracy: 0.9220 - recall: 0.8384 - val_loss: 0.2307 - val_accuracy: 0.9250 - val_recall: 0.9149\n",
      "Epoch 12/30\n",
      "78/78 [==============================] - 118s 2s/step - loss: 0.1975 - accuracy: 0.9244 - recall: 0.8459 - val_loss: 0.2320 - val_accuracy: 0.9227 - val_recall: 0.7943\n",
      "Epoch 13/30\n",
      "78/78 [==============================] - 99s 1s/step - loss: 0.1944 - accuracy: 0.9244 - recall: 0.8444 - val_loss: 0.2089 - val_accuracy: 0.9227 - val_recall: 0.9220\n",
      "Epoch 14/30\n",
      "78/78 [==============================] - 2755s 35s/step - loss: 0.1881 - accuracy: 0.9281 - recall: 0.8595 - val_loss: 0.1987 - val_accuracy: 0.9273 - val_recall: 0.8440\n",
      "Epoch 15/30\n",
      "78/78 [==============================] - 89s 1s/step - loss: 0.1859 - accuracy: 0.9268 - recall: 0.8520 - val_loss: 0.1983 - val_accuracy: 0.9318 - val_recall: 0.8511\n",
      "Epoch 16/30\n",
      "78/78 [==============================] - 1619s 21s/step - loss: 0.1838 - accuracy: 0.9297 - recall: 0.8610 - val_loss: 0.3965 - val_accuracy: 0.8523 - val_recall: 0.5674\n",
      "Epoch 17/30\n",
      "78/78 [==============================] - 66s 850ms/step - loss: 0.1790 - accuracy: 0.9293 - recall: 0.8550 - val_loss: 0.1858 - val_accuracy: 0.9409 - val_recall: 0.9220\n",
      "Epoch 18/30\n",
      "78/78 [==============================] - 64s 822ms/step - loss: 0.1787 - accuracy: 0.9333 - recall: 0.8610 - val_loss: 0.1998 - val_accuracy: 0.9341 - val_recall: 0.8511\n",
      "Epoch 19/30\n",
      "78/78 [==============================] - 62s 799ms/step - loss: 0.1774 - accuracy: 0.9325 - recall: 0.8640 - val_loss: 0.1957 - val_accuracy: 0.9409 - val_recall: 0.8511\n",
      "Epoch 20/30\n",
      "78/78 [==============================] - 64s 823ms/step - loss: 0.1717 - accuracy: 0.9341 - recall: 0.8640 - val_loss: 0.1868 - val_accuracy: 0.9318 - val_recall: 0.9149\n",
      "Epoch 21/30\n",
      "78/78 [==============================] - 67s 853ms/step - loss: 0.1609 - accuracy: 0.9401 - recall: 0.8822 - val_loss: 0.1789 - val_accuracy: 0.9364 - val_recall: 0.8582\n",
      "Epoch 22/30\n",
      "78/78 [==============================] - 64s 821ms/step - loss: 0.1494 - accuracy: 0.9437 - recall: 0.8897 - val_loss: 0.3202 - val_accuracy: 0.8955 - val_recall: 0.7092\n",
      "Epoch 23/30\n",
      "78/78 [==============================] - 62s 789ms/step - loss: 0.1550 - accuracy: 0.9437 - recall: 0.8807 - val_loss: 0.2598 - val_accuracy: 0.9114 - val_recall: 0.7589\n",
      "Epoch 24/30\n",
      "78/78 [==============================] - 62s 791ms/step - loss: 0.1564 - accuracy: 0.9421 - recall: 0.8867 - val_loss: 0.1848 - val_accuracy: 0.9364 - val_recall: 0.8582\n",
      "Epoch 25/30\n",
      "78/78 [==============================] - 73s 933ms/step - loss: 0.1517 - accuracy: 0.9473 - recall: 0.8882 - val_loss: 0.1711 - val_accuracy: 0.9409 - val_recall: 0.8936\n",
      "Epoch 26/30\n",
      "78/78 [==============================] - 1873s 24s/step - loss: 0.1543 - accuracy: 0.9457 - recall: 0.8912 - val_loss: 0.1926 - val_accuracy: 0.9295 - val_recall: 0.8298\n",
      "Epoch 27/30\n",
      "78/78 [==============================] - 98s 1s/step - loss: 0.1424 - accuracy: 0.9498 - recall: 0.8988 - val_loss: 0.1741 - val_accuracy: 0.9432 - val_recall: 0.9007\n",
      "Epoch 28/30\n",
      "78/78 [==============================] - 108s 1s/step - loss: 0.1433 - accuracy: 0.9469 - recall: 0.8912 - val_loss: 0.2022 - val_accuracy: 0.9364 - val_recall: 0.8369\n",
      "Epoch 29/30\n",
      "78/78 [==============================] - 107s 1s/step - loss: 0.1432 - accuracy: 0.9457 - recall: 0.8927 - val_loss: 0.1759 - val_accuracy: 0.9386 - val_recall: 0.8723\n",
      "Epoch 30/30\n",
      "78/78 [==============================] - 110s 1s/step - loss: 0.1361 - accuracy: 0.9510 - recall: 0.9063 - val_loss: 0.1887 - val_accuracy: 0.9341 - val_recall: 0.9433\n"
     ]
    }
   ],
   "source": [
    "# fit model to training data and validate\n",
    "cnn_history_2 = model_cnn_2.fit(X_train_2,\n",
    "                    y_train_2,\n",
    "                    epochs=30,\n",
    "                    batch_size=32,\n",
    "                    validation_data=(X_test_2, y_test_2))"
   ]
  },
  {
   "cell_type": "code",
   "execution_count": 33,
   "metadata": {
    "colab": {
     "base_uri": "https://localhost:8080/"
    },
    "id": "dtDSk79eC1tP",
    "outputId": "2995c40c-43c6-48de-f9b0-387ff127977b"
   },
   "outputs": [
    {
     "name": "stdout",
     "output_type": "stream",
     "text": [
      "78/78 [==============================] - 28s 364ms/step - loss: 0.1425 - accuracy: 0.9449 - recall: 0.9471\n"
     ]
    }
   ],
   "source": [
    "conv_results_train_2 = model_cnn_2.evaluate(X_train_2, y_train_2)"
   ]
  },
  {
   "cell_type": "code",
   "execution_count": 34,
   "metadata": {
    "colab": {
     "base_uri": "https://localhost:8080/"
    },
    "id": "JyvWhDOWC5OA",
    "outputId": "18b0bf9b-e505-40b4-a0ce-204904cb3eb5"
   },
   "outputs": [
    {
     "name": "stdout",
     "output_type": "stream",
     "text": [
      "14/14 [==============================] - 4s 318ms/step - loss: 0.1887 - accuracy: 0.9341 - recall: 0.9433\n"
     ]
    }
   ],
   "source": [
    "conv_results_test_2 = model_cnn_2.evaluate(X_test_2, y_test_2)"
   ]
  },
  {
   "cell_type": "code",
   "execution_count": 35,
   "metadata": {
    "id": "0yzPqhPzX3C5"
   },
   "outputs": [],
   "source": [
    "#model_cnn_2.save('Models/model_cnn_2.keras')"
   ]
  },
  {
   "cell_type": "code",
   "execution_count": 26,
   "metadata": {
    "id": "3Cq600OMZvQZ"
   },
   "outputs": [
    {
     "ename": "OSError",
     "evalue": "SavedModel file does not exist at: /Models/to/model_cnn_2.keras/{saved_model.pbtxt|saved_model.pb}",
     "output_type": "error",
     "traceback": [
      "\u001b[0;31m---------------------------------------------------------------------------\u001b[0m",
      "\u001b[0;31mOSError\u001b[0m                                   Traceback (most recent call last)",
      "\u001b[0;32m<ipython-input-26-b9fcc9ce45ad>\u001b[0m in \u001b[0;36m<module>\u001b[0;34m\u001b[0m\n\u001b[0;32m----> 1\u001b[0;31m \u001b[0mmodel_cnn_2\u001b[0m \u001b[0;34m=\u001b[0m \u001b[0mtf\u001b[0m\u001b[0;34m.\u001b[0m\u001b[0mkeras\u001b[0m\u001b[0;34m.\u001b[0m\u001b[0mmodels\u001b[0m\u001b[0;34m.\u001b[0m\u001b[0mload_model\u001b[0m\u001b[0;34m(\u001b[0m\u001b[0;34m'/Models/to/model_cnn_2.keras'\u001b[0m\u001b[0;34m)\u001b[0m\u001b[0;34m\u001b[0m\u001b[0;34m\u001b[0m\u001b[0m\n\u001b[0m",
      "\u001b[0;32m~/opt/anaconda3/envs/learn-env/lib/python3.8/site-packages/tensorflow/python/keras/saving/save.py\u001b[0m in \u001b[0;36mload_model\u001b[0;34m(filepath, custom_objects, compile, options)\u001b[0m\n\u001b[1;32m    184\u001b[0m     \u001b[0mfilepath\u001b[0m \u001b[0;34m=\u001b[0m \u001b[0mpath_to_string\u001b[0m\u001b[0;34m(\u001b[0m\u001b[0mfilepath\u001b[0m\u001b[0;34m)\u001b[0m\u001b[0;34m\u001b[0m\u001b[0;34m\u001b[0m\u001b[0m\n\u001b[1;32m    185\u001b[0m     \u001b[0;32mif\u001b[0m \u001b[0misinstance\u001b[0m\u001b[0;34m(\u001b[0m\u001b[0mfilepath\u001b[0m\u001b[0;34m,\u001b[0m \u001b[0msix\u001b[0m\u001b[0;34m.\u001b[0m\u001b[0mstring_types\u001b[0m\u001b[0;34m)\u001b[0m\u001b[0;34m:\u001b[0m\u001b[0;34m\u001b[0m\u001b[0;34m\u001b[0m\u001b[0m\n\u001b[0;32m--> 186\u001b[0;31m       \u001b[0mloader_impl\u001b[0m\u001b[0;34m.\u001b[0m\u001b[0mparse_saved_model\u001b[0m\u001b[0;34m(\u001b[0m\u001b[0mfilepath\u001b[0m\u001b[0;34m)\u001b[0m\u001b[0;34m\u001b[0m\u001b[0;34m\u001b[0m\u001b[0m\n\u001b[0m\u001b[1;32m    187\u001b[0m       \u001b[0;32mreturn\u001b[0m \u001b[0msaved_model_load\u001b[0m\u001b[0;34m.\u001b[0m\u001b[0mload\u001b[0m\u001b[0;34m(\u001b[0m\u001b[0mfilepath\u001b[0m\u001b[0;34m,\u001b[0m \u001b[0mcompile\u001b[0m\u001b[0;34m,\u001b[0m \u001b[0moptions\u001b[0m\u001b[0;34m)\u001b[0m\u001b[0;34m\u001b[0m\u001b[0;34m\u001b[0m\u001b[0m\n\u001b[1;32m    188\u001b[0m \u001b[0;34m\u001b[0m\u001b[0m\n",
      "\u001b[0;32m~/opt/anaconda3/envs/learn-env/lib/python3.8/site-packages/tensorflow/python/saved_model/loader_impl.py\u001b[0m in \u001b[0;36mparse_saved_model\u001b[0;34m(export_dir)\u001b[0m\n\u001b[1;32m    108\u001b[0m       \u001b[0;32mraise\u001b[0m \u001b[0mIOError\u001b[0m\u001b[0;34m(\u001b[0m\u001b[0;34m\"Cannot parse file %s: %s.\"\u001b[0m \u001b[0;34m%\u001b[0m \u001b[0;34m(\u001b[0m\u001b[0mpath_to_pbtxt\u001b[0m\u001b[0;34m,\u001b[0m \u001b[0mstr\u001b[0m\u001b[0;34m(\u001b[0m\u001b[0me\u001b[0m\u001b[0;34m)\u001b[0m\u001b[0;34m)\u001b[0m\u001b[0;34m)\u001b[0m\u001b[0;34m\u001b[0m\u001b[0;34m\u001b[0m\u001b[0m\n\u001b[1;32m    109\u001b[0m   \u001b[0;32melse\u001b[0m\u001b[0;34m:\u001b[0m\u001b[0;34m\u001b[0m\u001b[0;34m\u001b[0m\u001b[0m\n\u001b[0;32m--> 110\u001b[0;31m     raise IOError(\"SavedModel file does not exist at: %s/{%s|%s}\" %\n\u001b[0m\u001b[1;32m    111\u001b[0m                   (export_dir,\n\u001b[1;32m    112\u001b[0m                    \u001b[0mconstants\u001b[0m\u001b[0;34m.\u001b[0m\u001b[0mSAVED_MODEL_FILENAME_PBTXT\u001b[0m\u001b[0;34m,\u001b[0m\u001b[0;34m\u001b[0m\u001b[0;34m\u001b[0m\u001b[0m\n",
      "\u001b[0;31mOSError\u001b[0m: SavedModel file does not exist at: /Models/to/model_cnn_2.keras/{saved_model.pbtxt|saved_model.pb}"
     ]
    }
   ],
   "source": [
    "model_cnn_2 = tf.keras.models.load_model('/Models/to/model_cnn_2.keras')"
   ]
  },
  {
   "cell_type": "code",
   "execution_count": 37,
   "metadata": {
    "colab": {
     "base_uri": "https://localhost:8080/",
     "height": 472
    },
    "id": "82K3NxbnDJvd",
    "outputId": "24529c57-6761-4e06-ee71-382239d04194"
   },
   "outputs": [
    {
     "data": {
      "image/png": "[encoded data removed]",
      "text/plain": [
       "<Figure size 432x288 with 1 Axes>"
      ]
     },
     "metadata": {
      "needs_background": "light"
     },
     "output_type": "display_data"
    }
   ],
   "source": [
    "cnn_model_2_val_dict = cnn_history_2.history\n",
    "loss_values2 = cnn_model_2_val_dict[\"loss\"]\n",
    "val_loss_values2= cnn_model_2_val_dict[\"val_loss\"]\n",
    "\n",
    "epochs = range(1,len(loss_values2) + 1)\n",
    "plt.plot(epochs, loss_values2, \"g\", label=\"Training loss\")\n",
    "plt.plot(epochs, val_loss_values2, \"blue\", label=\"Validation loss\")\n",
    "\n",
    "plt.title(\"Training and Validation loss\")\n",
    "plt.xlabel(\"Epochs\")\n",
    "plt.ylabel(\"Loss\")\n",
    "plt.legend()\n",
    "plt.show()"
   ]
  },
  {
   "cell_type": "markdown",
   "metadata": {
    "id": "9G8AQGYqDKZ-"
   },
   "source": [
    "Interestingly, increasing the dense layer and adding two convolution layers decreased the accuracy of the model on test data.\n",
    "\n",
    "The training accuracy was 96% yet the testing accuracy was 93% and the recall was 85%. The recall significantly dropped from the previous model indicating that the model is not identifying as many pneumonia lungs."
   ]
  },
  {
   "cell_type": "code",
   "execution_count": 38,
   "metadata": {
    "colab": {
     "base_uri": "https://localhost:8080/",
     "height": 472
    },
    "id": "ix3250MRDyF2",
    "outputId": "d8a522d7-1d21-4162-c435-0edbc39fc143"
   },
   "outputs": [
    {
     "data": {
      "image/png": "[encoded data removed]",
      "text/plain": [
       "<Figure size 432x288 with 1 Axes>"
      ]
     },
     "metadata": {
      "needs_background": "light"
     },
     "output_type": "display_data"
    }
   ],
   "source": [
    "acc_values2 = cnn_model_2_val_dict[\"accuracy\"]\n",
    "val_acc_values2 = cnn_model_2_val_dict[\"val_accuracy\"]\n",
    "\n",
    "plt.plot(epochs, acc_values2, \"r\", label=\"Training acc\")\n",
    "plt.plot(epochs, val_acc_values2, \"blue\", label=\"Validation acc\")\n",
    "\n",
    "plt.title(\"Training and Validation accuracy\")\n",
    "plt.xlabel(\"Epochs\")\n",
    "plt.ylabel(\"Accuracy\")\n",
    "plt.legend()\n",
    "plt.show()"
   ]
  },
  {
   "cell_type": "code",
   "execution_count": 39,
   "metadata": {
    "colab": {
     "base_uri": "https://localhost:8080/",
     "height": 472
    },
    "id": "KL4Xe6VtTJjH",
    "outputId": "99295f61-b1a7-4724-8ad2-ca8cbd322730"
   },
   "outputs": [
    {
     "data": {
      "image/png": "[encoded data removed]",
      "text/plain": [
       "<Figure size 432x288 with 1 Axes>"
      ]
     },
     "metadata": {
      "needs_background": "light"
     },
     "output_type": "display_data"
    }
   ],
   "source": [
    "Recall_values2 = cnn_model_2_val_dict[\"recall\"]\n",
    "val_Recall_values2 = cnn_model_2_val_dict[\"val_recall\"]\n",
    "\n",
    "plt.plot(epochs, Recall_values2, \"r\", label=\"Training Recall\")\n",
    "plt.plot(epochs, val_Recall_values2, \"blue\", label=\"Validation acc\")\n",
    "\n",
    "plt.title(\"Training and Validation Recall\")\n",
    "plt.xlabel(\"Epochs\")\n",
    "plt.ylabel(\"Recall\")\n",
    "plt.legend()\n",
    "plt.show()"
   ]
  },
  {
   "cell_type": "markdown",
   "metadata": {},
   "source": [
    "These were the values of the model.\n",
    "\n",
    "* Training Accuracy: 95%\n",
    "* Testing Accuracy: 93%\n",
    "* Training Recall: 91%\n",
    "* Testing Recall: 87%\n",
    "\n",
    "These are very good numbers for a baseline model. The training and testing accuracies are just a few percentage points off from one another. This does not imply significant overfitting. Let's see if we can improve on these numbers in the next iteration"
   ]
  },
  {
   "cell_type": "markdown",
   "metadata": {
    "id": "8WX2tsiVhKay"
   },
   "source": [
    "## Third Convolution Neural Network\n",
    "\n",
    "* Three Convolution layers\n",
    "* Three Pooling layers\n",
    "* 30 neurons in the dense layer\n",
    "* Added a dropout parameter of 0.25\n",
    "\n",
    "Adding a dropout rate did not significantly change the accuracy off the models. The training accuracy was 94% and the testing accuracy was 95%."
   ]
  },
  {
   "cell_type": "code",
   "execution_count": 40,
   "metadata": {
    "id": "xm6Nr0dFMvv6"
   },
   "outputs": [],
   "source": [
    "# First Convolutional Layer\n",
    "\n",
    "model_cnn_3 = models.Sequential()\n",
    "model_cnn_3.add(layers.Conv2D(32, (3, 3), activation='relu', input_shape=(256 ,256,  3)))\n",
    "model_cnn_3.add(layers.MaxPooling2D((2, 2)))\n",
    "model_cnn_3.add(layers.Dropout(0.25))\n",
    "\n",
    "# Second Convolutional Layer\n",
    "\n",
    "model_cnn_3.add(layers.Conv2D(8, (4, 4), activation='relu',\n",
    "                        input_shape=(256 ,256,  3)))\n",
    "model_cnn_3.add(layers.MaxPooling2D((2, 2)))\n",
    "model_cnn_3.add(layers.Dropout(0.25))\n",
    "\n",
    "\n",
    "#Third Convolutional Layer\n",
    "\n",
    "model_cnn_3.add(layers.Conv2D(8, (4, 4), activation='relu', input_shape=(256 ,256,  3)))\n",
    "model_cnn_3.add(layers.MaxPooling2D((2, 2)))\n",
    "model_cnn_3.add(layers.Dropout(0.25))\n",
    "\n",
    "\n",
    "model_cnn_3.add(layers.Flatten())\n",
    "model_cnn_3.add(layers.Dense(30, activation='relu'))\n",
    "model_cnn_3.add(layers.Dropout(0.25))\n",
    "model_cnn_3.add(layers.Dense(1, activation='sigmoid'))\n",
    "\n",
    "model_cnn_3.compile(loss='binary_crossentropy',\n",
    "              optimizer=\"sgd\",\n",
    "              metrics=['acc','Recall'])\n",
    "\n"
   ]
  },
  {
   "cell_type": "code",
   "execution_count": 41,
   "metadata": {
    "colab": {
     "base_uri": "https://localhost:8080/"
    },
    "id": "a2tQWULyMvv6",
    "outputId": "7ff07b8d-a2ae-4d3b-dfa9-e350181ff47f"
   },
   "outputs": [
    {
     "name": "stdout",
     "output_type": "stream",
     "text": [
      "Epoch 1/30\n",
      "78/78 [==============================] - 223s 3s/step - loss: 0.5766 - acc: 0.7303 - recall: 0.0332 - val_loss: 0.6201 - val_acc: 0.7023 - val_recall: 0.0709\n",
      "Epoch 2/30\n",
      "78/78 [==============================] - 218s 3s/step - loss: 0.4900 - acc: 0.7625 - recall: 0.2659 - val_loss: 0.4912 - val_acc: 0.8159 - val_recall: 0.4326\n",
      "Epoch 3/30\n",
      "78/78 [==============================] - 227s 3s/step - loss: 0.3908 - acc: 0.8356 - recall: 0.5755 - val_loss: 0.3729 - val_acc: 0.8750 - val_recall: 0.6667\n",
      "Epoch 4/30\n",
      "78/78 [==============================] - 249s 3s/step - loss: 0.3297 - acc: 0.8585 - recall: 0.6888 - val_loss: 0.3560 - val_acc: 0.9000 - val_recall: 0.8723\n",
      "Epoch 5/30\n",
      "78/78 [==============================] - 256s 3s/step - loss: 0.2840 - acc: 0.8903 - recall: 0.7674 - val_loss: 0.2937 - val_acc: 0.9068 - val_recall: 0.7518\n",
      "Epoch 6/30\n",
      "78/78 [==============================] - 252s 3s/step - loss: 0.2714 - acc: 0.8927 - recall: 0.7689 - val_loss: 0.2885 - val_acc: 0.9114 - val_recall: 0.9149\n",
      "Epoch 7/30\n",
      "78/78 [==============================] - 454s 6s/step - loss: 0.2669 - acc: 0.8919 - recall: 0.7825 - val_loss: 0.3707 - val_acc: 0.9136 - val_recall: 0.9078\n",
      "Epoch 8/30\n",
      "78/78 [==============================] - 428s 5s/step - loss: 0.2331 - acc: 0.9164 - recall: 0.8248 - val_loss: 0.2788 - val_acc: 0.9091 - val_recall: 0.9220\n",
      "Epoch 9/30\n",
      "78/78 [==============================] - 161s 2s/step - loss: 0.2295 - acc: 0.9128 - recall: 0.8202 - val_loss: 0.2392 - val_acc: 0.9159 - val_recall: 0.9149\n",
      "Epoch 10/30\n",
      "78/78 [==============================] - 154s 2s/step - loss: 0.2313 - acc: 0.9072 - recall: 0.8202 - val_loss: 0.2251 - val_acc: 0.9318 - val_recall: 0.8936\n",
      "Epoch 11/30\n",
      "78/78 [==============================] - 159s 2s/step - loss: 0.2201 - acc: 0.9144 - recall: 0.8218 - val_loss: 0.2736 - val_acc: 0.9341 - val_recall: 0.8440\n",
      "Epoch 12/30\n",
      "78/78 [==============================] - 165s 2s/step - loss: 0.2133 - acc: 0.9152 - recall: 0.8202 - val_loss: 0.2748 - val_acc: 0.8750 - val_recall: 0.9433\n",
      "Epoch 13/30\n",
      "78/78 [==============================] - 151s 2s/step - loss: 0.2189 - acc: 0.9180 - recall: 0.8369 - val_loss: 0.2097 - val_acc: 0.9250 - val_recall: 0.8794\n",
      "Epoch 14/30\n",
      "78/78 [==============================] - 151s 2s/step - loss: 0.2066 - acc: 0.9176 - recall: 0.8353 - val_loss: 0.2218 - val_acc: 0.9273 - val_recall: 0.8936\n",
      "Epoch 15/30\n",
      "78/78 [==============================] - 717s 9s/step - loss: 0.2090 - acc: 0.9148 - recall: 0.8278 - val_loss: 0.2367 - val_acc: 0.9364 - val_recall: 0.8511\n",
      "Epoch 16/30\n",
      "78/78 [==============================] - 162s 2s/step - loss: 0.2026 - acc: 0.9236 - recall: 0.8369 - val_loss: 0.2357 - val_acc: 0.9318 - val_recall: 0.8582\n",
      "Epoch 17/30\n",
      "78/78 [==============================] - 149s 2s/step - loss: 0.1888 - acc: 0.9277 - recall: 0.8414 - val_loss: 0.2336 - val_acc: 0.9273 - val_recall: 0.8794\n",
      "Epoch 18/30\n",
      "78/78 [==============================] - 148s 2s/step - loss: 0.1897 - acc: 0.9297 - recall: 0.8550 - val_loss: 0.1905 - val_acc: 0.9273 - val_recall: 0.8936\n",
      "Epoch 19/30\n",
      "78/78 [==============================] - 152s 2s/step - loss: 0.1896 - acc: 0.9313 - recall: 0.8656 - val_loss: 0.2442 - val_acc: 0.9205 - val_recall: 0.9291\n",
      "Epoch 20/30\n",
      "78/78 [==============================] - 147s 2s/step - loss: 0.1860 - acc: 0.9329 - recall: 0.8686 - val_loss: 0.1916 - val_acc: 0.9250 - val_recall: 0.8865\n",
      "Epoch 21/30\n",
      "78/78 [==============================] - 151s 2s/step - loss: 0.1786 - acc: 0.9309 - recall: 0.8565 - val_loss: 0.2064 - val_acc: 0.9136 - val_recall: 0.8865\n",
      "Epoch 22/30\n",
      "78/78 [==============================] - 149s 2s/step - loss: 0.1830 - acc: 0.9309 - recall: 0.8580 - val_loss: 0.1909 - val_acc: 0.9182 - val_recall: 0.8723\n",
      "Epoch 23/30\n",
      "78/78 [==============================] - 146s 2s/step - loss: 0.1774 - acc: 0.9329 - recall: 0.8595 - val_loss: 0.1746 - val_acc: 0.9318 - val_recall: 0.8723\n",
      "Epoch 24/30\n",
      "78/78 [==============================] - 2009s 26s/step - loss: 0.1769 - acc: 0.9309 - recall: 0.8625 - val_loss: 0.1992 - val_acc: 0.9295 - val_recall: 0.8723\n",
      "Epoch 25/30\n",
      "78/78 [==============================] - 237s 3s/step - loss: 0.1679 - acc: 0.9405 - recall: 0.8731 - val_loss: 0.1953 - val_acc: 0.9295 - val_recall: 0.8369\n",
      "Epoch 26/30\n",
      "78/78 [==============================] - 474s 6s/step - loss: 0.1697 - acc: 0.9365 - recall: 0.8686 - val_loss: 0.1848 - val_acc: 0.9250 - val_recall: 0.8582\n",
      "Epoch 27/30\n",
      "78/78 [==============================] - 572s 7s/step - loss: 0.1614 - acc: 0.9421 - recall: 0.8822 - val_loss: 0.1723 - val_acc: 0.9318 - val_recall: 0.8652\n",
      "Epoch 28/30\n",
      "78/78 [==============================] - 435s 6s/step - loss: 0.1694 - acc: 0.9349 - recall: 0.8656 - val_loss: 0.1884 - val_acc: 0.9386 - val_recall: 0.9291\n",
      "Epoch 29/30\n",
      "78/78 [==============================] - 213s 3s/step - loss: 0.1647 - acc: 0.9421 - recall: 0.8746 - val_loss: 0.2009 - val_acc: 0.9273 - val_recall: 0.9362\n",
      "Epoch 30/30\n",
      "78/78 [==============================] - 157s 2s/step - loss: 0.1639 - acc: 0.9393 - recall: 0.8822 - val_loss: 0.1792 - val_acc: 0.9227 - val_recall: 0.8440\n"
     ]
    }
   ],
   "source": [
    "cnn_history_3 = model_cnn_3.fit(X_train_2,\n",
    "                    y_train_2,\n",
    "                    epochs=30,\n",
    "                    batch_size=32,\n",
    "                    validation_data=(X_test_2, y_test_2))"
   ]
  },
  {
   "cell_type": "code",
   "execution_count": 42,
   "metadata": {
    "id": "fXz3Xn7LYWRr"
   },
   "outputs": [],
   "source": [
    "#model_cnn_3.save('Models/model_cnn_3.keras')"
   ]
  },
  {
   "cell_type": "code",
   "execution_count": 43,
   "metadata": {
    "id": "qEDY4TJLZ5-m"
   },
   "outputs": [],
   "source": [
    "#model_cnn_3 = models.load_model('Models/model_cnn_3.keras')"
   ]
  },
  {
   "cell_type": "code",
   "execution_count": 44,
   "metadata": {
    "colab": {
     "base_uri": "https://localhost:8080/"
    },
    "id": "ZdCP5RtkMvv7",
    "outputId": "71302e0a-47ef-4701-8b32-29909a51d173"
   },
   "outputs": [
    {
     "name": "stdout",
     "output_type": "stream",
     "text": [
      "78/78 [==============================] - 31s 397ms/step - loss: 0.1448 - acc: 0.9453 - recall: 0.8776\n"
     ]
    }
   ],
   "source": [
    "conv_results_train_3 = model_cnn_3.evaluate(X_train_2, y_train_2)"
   ]
  },
  {
   "cell_type": "code",
   "execution_count": 45,
   "metadata": {
    "colab": {
     "base_uri": "https://localhost:8080/"
    },
    "id": "PrT-NzfUMvv7",
    "outputId": "dadcde41-fb88-40cc-cbc8-daa6609f0bf0"
   },
   "outputs": [
    {
     "name": "stdout",
     "output_type": "stream",
     "text": [
      "14/14 [==============================] - 5s 367ms/step - loss: 0.1792 - acc: 0.9227 - recall: 0.8440\n"
     ]
    }
   ],
   "source": [
    "conv_results_test_3 = model_cnn_3.evaluate(X_test_2, y_test_2)"
   ]
  },
  {
   "cell_type": "code",
   "execution_count": 46,
   "metadata": {
    "colab": {
     "base_uri": "https://localhost:8080/",
     "height": 472
    },
    "id": "tCpLVo79iB7V",
    "outputId": "1c1c7e53-4bd8-4de9-9bc3-2bb165ff7aaf"
   },
   "outputs": [
    {
     "data": {
      "image/png": "[encoded data removed]",
      "text/plain": [
       "<Figure size 432x288 with 1 Axes>"
      ]
     },
     "metadata": {
      "needs_background": "light"
     },
     "output_type": "display_data"
    }
   ],
   "source": [
    "cnn_model_3_val_dict = cnn_history_3.history\n",
    "loss_values3 = cnn_model_3_val_dict[\"loss\"]\n",
    "val_loss_values3= cnn_model_3_val_dict[\"val_loss\"]\n",
    "\n",
    "epochs = range(1,len(loss_values3) + 1)\n",
    "plt.plot(epochs, loss_values3, \"g\", label=\"Training loss\")\n",
    "plt.plot(epochs, val_loss_values3, \"blue\", label=\"Validation loss\")\n",
    "\n",
    "plt.title(\"Training and Validation loss\")\n",
    "plt.xlabel(\"Epochs\")\n",
    "plt.ylabel(\"Loss\")\n",
    "plt.legend()\n",
    "plt.show()"
   ]
  },
  {
   "cell_type": "code",
   "execution_count": 47,
   "metadata": {
    "colab": {
     "base_uri": "https://localhost:8080/",
     "height": 472
    },
    "id": "0ER0y_xKioGE",
    "outputId": "5cc47fb7-92a2-41ac-a654-1a5d10fc0d11"
   },
   "outputs": [
    {
     "data": {
      "image/png": "[encoded data removed]",
      "text/plain": [
       "<Figure size 432x288 with 1 Axes>"
      ]
     },
     "metadata": {
      "needs_background": "light"
     },
     "output_type": "display_data"
    }
   ],
   "source": [
    "acc_values3 = cnn_model_3_val_dict[\"acc\"]\n",
    "val_acc_values3 = cnn_model_3_val_dict[\"val_acc\"]\n",
    "\n",
    "plt.plot(epochs, acc_values3, \"r\", label=\"Training acc\")\n",
    "plt.plot(epochs, val_acc_values3, \"blue\", label=\"Validation acc\")\n",
    "\n",
    "plt.title(\"Training and Validation accuracy\")\n",
    "plt.xlabel(\"Epochs\")\n",
    "plt.ylabel(\"Accuracy\")\n",
    "plt.legend()\n",
    "plt.show()"
   ]
  },
  {
   "cell_type": "code",
   "execution_count": 48,
   "metadata": {
    "colab": {
     "base_uri": "https://localhost:8080/",
     "height": 472
    },
    "id": "hWq88jTMTouG",
    "outputId": "4ae3989b-d52e-44e4-e9da-83bc485a3377"
   },
   "outputs": [
    {
     "data": {
      "image/png": "[encoded data removed]",
      "text/plain": [
       "<Figure size 432x288 with 1 Axes>"
      ]
     },
     "metadata": {
      "needs_background": "light"
     },
     "output_type": "display_data"
    }
   ],
   "source": [
    "Recall_values3 = cnn_model_3_val_dict[\"recall\"]\n",
    "val_Recall_values3 = cnn_model_3_val_dict[\"val_recall\"]\n",
    "\n",
    "plt.plot(epochs, Recall_values3, \"r\", label=\"Training Recall\")\n",
    "plt.plot(epochs, val_Recall_values3, \"blue\", label=\"Validation acc\")\n",
    "\n",
    "plt.title(\"Training and Validation Recall\")\n",
    "plt.xlabel(\"Epochs\")\n",
    "plt.ylabel(\"Recall\")\n",
    "plt.legend()\n",
    "plt.show()"
   ]
  },
  {
   "cell_type": "markdown",
   "metadata": {
    "id": "39kaA9xdiCZ3"
   },
   "source": [
    "Adding a dropout rate did not significantly change the accuracy off the models. The training accuracy was 94% and the testing accuracy was 95%. The recall was 89%. Slightly higher than the past two iterations."
   ]
  },
  {
   "cell_type": "markdown",
   "metadata": {
    "id": "zACPgoKf-y0x"
   },
   "source": [
    "## Fourth Convolution Neural Network\n",
    "\n",
    "* Three Convolution layers\n",
    "* Three Pooling layers\n",
    "* 30 neurons in the dense layer\n",
    "* Added a dropout parameter of 0.25\n",
    "* L2 regularizer off 0.001 added\n",
    "\n",
    "Training Accuracy is 93%, testing accuracy is 93%, and a recall of 92%. The training accuracy dropped somewhat."
   ]
  },
  {
   "cell_type": "code",
   "execution_count": 49,
   "metadata": {
    "id": "_tSXDRd3kQC-"
   },
   "outputs": [],
   "source": [
    "# First Convolutional Layer\n",
    "\n",
    "model_cnn_4 = models.Sequential()\n",
    "model_cnn_4.add(layers.Conv2D(32, (3, 3), activation='relu',\n",
    "                        kernel_regularizer=keras.regularizers.l2(l=0.001),input_shape=(256 ,256,  3)))\n",
    "model_cnn_4.add(layers.MaxPooling2D((2, 2)))\n",
    "model_cnn_4.add(layers.Dropout(0.25))\n",
    "\n",
    "# Second Convolutional Layer\n",
    "\n",
    "model_cnn_4.add(layers.Conv2D(8, (4, 4), activation='relu',\n",
    "                              kernel_regularizer=keras.regularizers.l2(l=0.001),\n",
    "                        input_shape=(256 ,256,  3)))\n",
    "model_cnn_4.add(layers.MaxPooling2D((2, 2)))\n",
    "model_cnn_4.add(layers.Dropout(0.25))\n",
    "\n",
    "\n",
    "#Third Convolutional Layer\n",
    "\n",
    "model_cnn_4.add(layers.Conv2D(8, (4, 4), activation='relu',\n",
    "                              kernel_regularizer=keras.regularizers.l2(l=0.001),\n",
    "                              input_shape=(256 ,256,  3)))\n",
    "model_cnn_4.add(layers.MaxPooling2D((2, 2)))\n",
    "model_cnn_4.add(layers.Dropout(0.25))\n",
    "\n",
    "model_cnn_4.add(layers.Flatten())\n",
    "model_cnn_4.add(layers.Dense(30, activation='relu'))\n",
    "model_cnn_4.add(layers.Dropout(0.25))\n",
    "model_cnn_4.add(layers.Dense(1, activation='sigmoid'))\n",
    "\n",
    "model_cnn_4.compile(loss='binary_crossentropy',\n",
    "              optimizer=\"sgd\",\n",
    "              metrics=['acc','Recall'])\n",
    "\n"
   ]
  },
  {
   "cell_type": "code",
   "execution_count": null,
   "metadata": {
    "colab": {
     "base_uri": "https://localhost:8080/"
    },
    "id": "hq6bns_UkdLI",
    "outputId": "0a8ac49c-ce31-4830-d350-c204e3108f08"
   },
   "outputs": [
    {
     "name": "stdout",
     "output_type": "stream",
     "text": [
      "Epoch 1/30\n",
      "78/78 [==============================] - 152s 2s/step - loss: 0.5942 - acc: 0.7335 - recall: 0.0574 - val_loss: 0.6105 - val_acc: 0.7614 - val_recall: 0.2766\n",
      "Epoch 2/30\n",
      "78/78 [==============================] - 151s 2s/step - loss: 0.5082 - acc: 0.7749 - recall: 0.3082 - val_loss: 0.5987 - val_acc: 0.8045 - val_recall: 0.9291\n",
      "Epoch 3/30\n",
      "78/78 [==============================] - 158s 2s/step - loss: 0.4020 - acc: 0.8364 - recall: 0.5846 - val_loss: 0.3678 - val_acc: 0.8841 - val_recall: 0.7872\n",
      "Epoch 4/30\n",
      "78/78 [==============================] - 152s 2s/step - loss: 0.3404 - acc: 0.8694 - recall: 0.7251 - val_loss: 0.4147 - val_acc: 0.9227 - val_recall: 0.9149\n",
      "Epoch 5/30\n",
      "78/78 [==============================] - 149s 2s/step - loss: 0.3114 - acc: 0.8955 - recall: 0.7719 - val_loss: 0.3335 - val_acc: 0.9250 - val_recall: 0.8794\n",
      "Epoch 6/30\n",
      "78/78 [==============================] - 154s 2s/step - loss: 0.2984 - acc: 0.8947 - recall: 0.7840 - val_loss: 0.5456 - val_acc: 0.8091 - val_recall: 0.9645\n",
      "Epoch 7/30\n",
      "78/78 [==============================] - 154s 2s/step - loss: 0.2868 - acc: 0.8923 - recall: 0.7855 - val_loss: 0.3925 - val_acc: 0.9182 - val_recall: 0.9007\n",
      "Epoch 8/30\n",
      "78/78 [==============================] - 150s 2s/step - loss: 0.2690 - acc: 0.9080 - recall: 0.8142 - val_loss: 0.3301 - val_acc: 0.9045 - val_recall: 0.9220\n",
      "Epoch 9/30\n",
      "78/78 [==============================] - 147s 2s/step - loss: 0.2620 - acc: 0.9108 - recall: 0.8338 - val_loss: 0.2732 - val_acc: 0.9159 - val_recall: 0.9220\n",
      "Epoch 10/30\n",
      "78/78 [==============================] - 148s 2s/step - loss: 0.2506 - acc: 0.9112 - recall: 0.8218 - val_loss: 0.2619 - val_acc: 0.9205 - val_recall: 0.9220\n",
      "Epoch 11/30\n",
      "78/78 [==============================] - 150s 2s/step - loss: 0.2512 - acc: 0.9108 - recall: 0.8248 - val_loss: 0.2900 - val_acc: 0.9318 - val_recall: 0.8865\n",
      "Epoch 12/30\n",
      "78/78 [==============================] - 151s 2s/step - loss: 0.2516 - acc: 0.9184 - recall: 0.8353 - val_loss: 0.3075 - val_acc: 0.9182 - val_recall: 0.9149\n",
      "Epoch 13/30\n",
      "78/78 [==============================] - 150s 2s/step - loss: 0.2333 - acc: 0.9208 - recall: 0.8369 - val_loss: 0.2380 - val_acc: 0.9295 - val_recall: 0.8865\n",
      "Epoch 14/30\n",
      "78/78 [==============================] - 166s 2s/step - loss: 0.2354 - acc: 0.9180 - recall: 0.8338 - val_loss: 0.3297 - val_acc: 0.9205 - val_recall: 0.9362\n",
      "Epoch 15/30\n",
      "78/78 [==============================] - 162s 2s/step - loss: 0.2379 - acc: 0.9240 - recall: 0.8489 - val_loss: 0.2907 - val_acc: 0.8932 - val_recall: 0.9362\n",
      "Epoch 16/30\n",
      "78/78 [==============================] - 155s 2s/step - loss: 0.2303 - acc: 0.9220 - recall: 0.8429 - val_loss: 0.2417 - val_acc: 0.9273 - val_recall: 0.8440\n",
      "Epoch 17/30\n",
      "78/78 [==============================] - 156s 2s/step - loss: 0.2189 - acc: 0.9277 - recall: 0.8550 - val_loss: 0.2475 - val_acc: 0.9386 - val_recall: 0.9149\n",
      "Epoch 18/30\n",
      "78/78 [==============================] - 159s 2s/step - loss: 0.2183 - acc: 0.9260 - recall: 0.8535 - val_loss: 0.2219 - val_acc: 0.9295 - val_recall: 0.8936\n",
      "Epoch 19/30\n",
      "78/78 [==============================] - 158s 2s/step - loss: 0.2105 - acc: 0.9321 - recall: 0.8580 - val_loss: 0.2496 - val_acc: 0.9386 - val_recall: 0.9149\n",
      "Epoch 20/30\n",
      "78/78 [==============================] - 156s 2s/step - loss: 0.2095 - acc: 0.9333 - recall: 0.8731 - val_loss: 0.2344 - val_acc: 0.9205 - val_recall: 0.8936\n",
      "Epoch 21/30\n",
      "78/78 [==============================] - 212s 3s/step - loss: 0.2043 - acc: 0.9333 - recall: 0.8716 - val_loss: 0.2110 - val_acc: 0.9295 - val_recall: 0.8794\n",
      "Epoch 22/30\n",
      "78/78 [==============================] - 161s 2s/step - loss: 0.2119 - acc: 0.9293 - recall: 0.8550 - val_loss: 0.2344 - val_acc: 0.9455 - val_recall: 0.9291\n",
      "Epoch 23/30\n",
      "78/78 [==============================] - 3105s 40s/step - loss: 0.2023 - acc: 0.9305 - recall: 0.8640 - val_loss: 0.2121 - val_acc: 0.9250 - val_recall: 0.9078\n",
      "Epoch 24/30\n",
      "78/78 [==============================] - 286s 4s/step - loss: 0.2023 - acc: 0.9341 - recall: 0.8656 - val_loss: 0.2115 - val_acc: 0.9432 - val_recall: 0.8794\n",
      "Epoch 25/30\n",
      "42/78 [===============>..............] - ETA: 2:19 - loss: 0.2004 - acc: 0.9382 - recall: 0.8795"
     ]
    }
   ],
   "source": [
    "cnn_history_4 = model_cnn_4.fit(X_train_2,\n",
    "                    y_train_2,\n",
    "                    epochs=30,\n",
    "                    batch_size=32,\n",
    "                    validation_data=(X_test_2, y_test_2))"
   ]
  },
  {
   "cell_type": "code",
   "execution_count": 4,
   "metadata": {},
   "outputs": [
    {
     "ename": "ModuleNotFoundError",
     "evalue": "No module named 'lime'",
     "output_type": "error",
     "traceback": [
      "\u001b[0;31m---------------------------------------------------------------------------\u001b[0m",
      "\u001b[0;31mModuleNotFoundError\u001b[0m                       Traceback (most recent call last)",
      "\u001b[0;32m<ipython-input-4-8f4b2891e425>\u001b[0m in \u001b[0;36m<module>\u001b[0;34m\u001b[0m\n\u001b[0;32m----> 1\u001b[0;31m \u001b[0;32mfrom\u001b[0m \u001b[0mlime\u001b[0m \u001b[0;32mimport\u001b[0m \u001b[0mlime_image\u001b[0m\u001b[0;34m\u001b[0m\u001b[0;34m\u001b[0m\u001b[0m\n\u001b[0m",
      "\u001b[0;31mModuleNotFoundError\u001b[0m: No module named 'lime'"
     ]
    }
   ],
   "source": [
    "from lime import lime_image"
   ]
  },
  {
   "cell_type": "code",
   "execution_count": null,
   "metadata": {
    "id": "Z0yY90bnpTQM"
   },
   "outputs": [],
   "source": [
    "#model_cnn_4.save('Models/model_cnn_4_recall.keras')"
   ]
  },
  {
   "cell_type": "code",
   "execution_count": 29,
   "metadata": {
    "id": "EGBPwBlFF1qb"
   },
   "outputs": [
    {
     "ename": "OSError",
     "evalue": "SavedModel file does not exist at: Models/model_cnn_4_recall.keras/{saved_model.pbtxt|saved_model.pb}",
     "output_type": "error",
     "traceback": [
      "\u001b[0;31m---------------------------------------------------------------------------\u001b[0m",
      "\u001b[0;31mOSError\u001b[0m                                   Traceback (most recent call last)",
      "\u001b[0;32m<ipython-input-29-de3b00c8b00f>\u001b[0m in \u001b[0;36m<module>\u001b[0;34m\u001b[0m\n\u001b[0;32m----> 1\u001b[0;31m \u001b[0mmodel_cnn_4\u001b[0m \u001b[0;34m=\u001b[0m \u001b[0mmodels\u001b[0m\u001b[0;34m.\u001b[0m\u001b[0mload_model\u001b[0m\u001b[0;34m(\u001b[0m\u001b[0;34m'Models/model_cnn_4_recall.keras'\u001b[0m\u001b[0;34m)\u001b[0m\u001b[0;34m\u001b[0m\u001b[0;34m\u001b[0m\u001b[0m\n\u001b[0m",
      "\u001b[0;32m~/opt/anaconda3/envs/learn-env/lib/python3.8/site-packages/tensorflow/python/keras/saving/save.py\u001b[0m in \u001b[0;36mload_model\u001b[0;34m(filepath, custom_objects, compile, options)\u001b[0m\n\u001b[1;32m    184\u001b[0m     \u001b[0mfilepath\u001b[0m \u001b[0;34m=\u001b[0m \u001b[0mpath_to_string\u001b[0m\u001b[0;34m(\u001b[0m\u001b[0mfilepath\u001b[0m\u001b[0;34m)\u001b[0m\u001b[0;34m\u001b[0m\u001b[0;34m\u001b[0m\u001b[0m\n\u001b[1;32m    185\u001b[0m     \u001b[0;32mif\u001b[0m \u001b[0misinstance\u001b[0m\u001b[0;34m(\u001b[0m\u001b[0mfilepath\u001b[0m\u001b[0;34m,\u001b[0m \u001b[0msix\u001b[0m\u001b[0;34m.\u001b[0m\u001b[0mstring_types\u001b[0m\u001b[0;34m)\u001b[0m\u001b[0;34m:\u001b[0m\u001b[0;34m\u001b[0m\u001b[0;34m\u001b[0m\u001b[0m\n\u001b[0;32m--> 186\u001b[0;31m       \u001b[0mloader_impl\u001b[0m\u001b[0;34m.\u001b[0m\u001b[0mparse_saved_model\u001b[0m\u001b[0;34m(\u001b[0m\u001b[0mfilepath\u001b[0m\u001b[0;34m)\u001b[0m\u001b[0;34m\u001b[0m\u001b[0;34m\u001b[0m\u001b[0m\n\u001b[0m\u001b[1;32m    187\u001b[0m       \u001b[0;32mreturn\u001b[0m \u001b[0msaved_model_load\u001b[0m\u001b[0;34m.\u001b[0m\u001b[0mload\u001b[0m\u001b[0;34m(\u001b[0m\u001b[0mfilepath\u001b[0m\u001b[0;34m,\u001b[0m \u001b[0mcompile\u001b[0m\u001b[0;34m,\u001b[0m \u001b[0moptions\u001b[0m\u001b[0;34m)\u001b[0m\u001b[0;34m\u001b[0m\u001b[0;34m\u001b[0m\u001b[0m\n\u001b[1;32m    188\u001b[0m \u001b[0;34m\u001b[0m\u001b[0m\n",
      "\u001b[0;32m~/opt/anaconda3/envs/learn-env/lib/python3.8/site-packages/tensorflow/python/saved_model/loader_impl.py\u001b[0m in \u001b[0;36mparse_saved_model\u001b[0;34m(export_dir)\u001b[0m\n\u001b[1;32m    108\u001b[0m       \u001b[0;32mraise\u001b[0m \u001b[0mIOError\u001b[0m\u001b[0;34m(\u001b[0m\u001b[0;34m\"Cannot parse file %s: %s.\"\u001b[0m \u001b[0;34m%\u001b[0m \u001b[0;34m(\u001b[0m\u001b[0mpath_to_pbtxt\u001b[0m\u001b[0;34m,\u001b[0m \u001b[0mstr\u001b[0m\u001b[0;34m(\u001b[0m\u001b[0me\u001b[0m\u001b[0;34m)\u001b[0m\u001b[0;34m)\u001b[0m\u001b[0;34m)\u001b[0m\u001b[0;34m\u001b[0m\u001b[0;34m\u001b[0m\u001b[0m\n\u001b[1;32m    109\u001b[0m   \u001b[0;32melse\u001b[0m\u001b[0;34m:\u001b[0m\u001b[0;34m\u001b[0m\u001b[0;34m\u001b[0m\u001b[0m\n\u001b[0;32m--> 110\u001b[0;31m     raise IOError(\"SavedModel file does not exist at: %s/{%s|%s}\" %\n\u001b[0m\u001b[1;32m    111\u001b[0m                   (export_dir,\n\u001b[1;32m    112\u001b[0m                    \u001b[0mconstants\u001b[0m\u001b[0;34m.\u001b[0m\u001b[0mSAVED_MODEL_FILENAME_PBTXT\u001b[0m\u001b[0;34m,\u001b[0m\u001b[0;34m\u001b[0m\u001b[0;34m\u001b[0m\u001b[0m\n",
      "\u001b[0;31mOSError\u001b[0m: SavedModel file does not exist at: Models/model_cnn_4_recall.keras/{saved_model.pbtxt|saved_model.pb}"
     ]
    }
   ],
   "source": [
    "#model_cnn_4 = models.load_model('Models/model_cnn_4_recall.keras')"
   ]
  },
  {
   "cell_type": "code",
   "execution_count": null,
   "metadata": {
    "colab": {
     "base_uri": "https://localhost:8080/"
    },
    "id": "kLCiAzOBiQHo",
    "outputId": "dd82ceb8-7a4b-4e05-ddf5-6b25ff1d4f4d"
   },
   "outputs": [],
   "source": [
    "conv_results_test_4 = model_cnn_4.evaluate(X_test_2, y_test_2)"
   ]
  },
  {
   "cell_type": "code",
   "execution_count": null,
   "metadata": {
    "colab": {
     "base_uri": "https://localhost:8080/",
     "height": 472
    },
    "id": "VphtuhnKkeN0",
    "outputId": "66872a03-a8d3-469f-8d6b-126f0f01ced8"
   },
   "outputs": [],
   "source": [
    "cnn_model_4_val_dict = cnn_history_4.history\n",
    "loss_values4 = cnn_model_4_val_dict[\"loss\"]\n",
    "val_loss_values4= cnn_model_4_val_dict[\"val_loss\"]\n",
    "\n",
    "epochs = range(1,len(loss_values4) + 1)\n",
    "plt.plot(epochs, loss_values4, \"g\", label=\"Training loss\")\n",
    "plt.plot(epochs, val_loss_values4, \"blue\", label=\"Validation loss\")\n",
    "\n",
    "plt.title(\"Training and Validation loss\")\n",
    "plt.xlabel(\"Epochs\")\n",
    "plt.ylabel(\"Loss\")\n",
    "plt.legend()\n",
    "plt.show()"
   ]
  },
  {
   "cell_type": "code",
   "execution_count": null,
   "metadata": {
    "colab": {
     "base_uri": "https://localhost:8080/",
     "height": 472
    },
    "id": "-bXJC8hpMvv7",
    "outputId": "6d17dd23-c947-43b8-8c66-973d7de6ace9"
   },
   "outputs": [],
   "source": [
    "acc_values4 = cnn_model_4_val_dict[\"acc\"]\n",
    "val_acc_values4 = cnn_model_4_val_dict[\"val_acc\"]\n",
    "\n",
    "plt.plot(epochs, acc_values4, \"r\", label=\"Training acc\")\n",
    "plt.plot(epochs, val_acc_values4, \"blue\", label=\"Validation acc\")\n",
    "\n",
    "plt.title(\"Training and Validation accuracy\")\n",
    "plt.xlabel(\"Epochs\")\n",
    "plt.ylabel(\"Accuracy\")\n",
    "plt.legend()\n",
    "plt.show()"
   ]
  },
  {
   "cell_type": "code",
   "execution_count": null,
   "metadata": {
    "colab": {
     "base_uri": "https://localhost:8080/",
     "height": 472
    },
    "id": "ON6Cx842TwJ3",
    "outputId": "32738814-d4ff-43d2-8651-fc0e3db39813"
   },
   "outputs": [],
   "source": [
    "Recall_values4 = cnn_model_4_val_dict[\"recall\"]\n",
    "val_Recall_values4 = cnn_model_4_val_dict[\"val_recall\"]\n",
    "\n",
    "plt.plot(epochs, Recall_values4, \"r\", label=\"Training Recall\")\n",
    "plt.plot(epochs, val_Recall_values4, \"blue\", label=\"Validation acc\")\n",
    "\n",
    "plt.title(\"Training and Validation Recall\")\n",
    "plt.xlabel(\"Epochs\")\n",
    "plt.ylabel(\"Recall\")\n",
    "plt.legend()\n",
    "plt.show()"
   ]
  },
  {
   "cell_type": "markdown",
   "metadata": {
    "id": "4NccmMtgMA6G"
   },
   "source": [
    "# Model Evaluation\n",
    "\n",
    "We've run 4 models. All have had very good accuracy (over 93%) on both the training and testing data. Let's run these models over the the larger testing data set that was split off earlier."
   ]
  },
  {
   "cell_type": "code",
   "execution_count": null,
   "metadata": {
    "colab": {
     "base_uri": "https://localhost:8080/"
    },
    "id": "7ELrMPr7MZqL",
    "outputId": "e79f87c8-4a3d-4b03-c7fc-f18ec1e945e0"
   },
   "outputs": [],
   "source": [
    "# Run CNN #1\n",
    "\n",
    "CNN_Results_1 = model_cnn_1.evaluate(X_test_1,y_test_1)\n",
    "\n",
    "CNN_Results_1"
   ]
  },
  {
   "cell_type": "code",
   "execution_count": null,
   "metadata": {
    "colab": {
     "base_uri": "https://localhost:8080/"
    },
    "id": "dg268kp52LOP",
    "outputId": "f2d9ce56-28e0-46a2-87a0-891d01b9bdf0"
   },
   "outputs": [],
   "source": [
    "# Run CNN #2\n",
    "\n",
    "CNN_Results_2 = model_cnn_2.evaluate(X_test_1,y_test_1)\n",
    "\n",
    "CNN_Results_2"
   ]
  },
  {
   "cell_type": "code",
   "execution_count": null,
   "metadata": {
    "colab": {
     "base_uri": "https://localhost:8080/"
    },
    "id": "Ocsfs9tw2OKi",
    "outputId": "2cea9b7d-3f70-4fd1-843b-0ebb14c5e516"
   },
   "outputs": [],
   "source": [
    "# Run CNN #3 Model\n",
    "\n",
    "CNN_Results_3 = model_cnn_3.evaluate(X_test_1,y_test_1)\n",
    "\n",
    "CNN_Results_3\n"
   ]
  },
  {
   "cell_type": "code",
   "execution_count": null,
   "metadata": {
    "colab": {
     "base_uri": "https://localhost:8080/"
    },
    "id": "k-KRJtTY2Qht",
    "outputId": "43ba6cc9-b3d3-4670-87c0-42f971f16003"
   },
   "outputs": [],
   "source": [
    "#Run CNN #4 Model\n",
    "\n",
    "CNN_Results_4 = model_cnn_4.evaluate(X_test_1,y_test_1)\n",
    "\n",
    "CNN_Results_4\n"
   ]
  },
  {
   "cell_type": "code",
   "execution_count": null,
   "metadata": {
    "colab": {
     "base_uri": "https://localhost:8080/"
    },
    "id": "L2WCZQdl2WGA",
    "outputId": "42641108-ac88-4477-eccc-155ece21975f"
   },
   "outputs": [],
   "source": [
    "Models_Accuracy = [CNN_Results_1[1],CNN_Results_2[1],CNN_Results_3[1],CNN_Results_4[1],]\n",
    "\n",
    "Models_Accuracy"
   ]
  },
  {
   "cell_type": "code",
   "execution_count": null,
   "metadata": {
    "colab": {
     "base_uri": "https://localhost:8080/",
     "height": 472
    },
    "id": "7uXlgPy4U1KW",
    "outputId": "f625b05b-c6a1-4a82-fbd9-8780e67c43bb"
   },
   "outputs": [],
   "source": [
    "sns.lineplot(x = [\"CNN - 1\",\"CNN 2\",\"CNN 3\", \"CNN 4\"],y = Models_Accuracy)\n",
    "\n",
    "plt.title(\"Accuracy of Neural Network Models\")\n",
    "plt.xlabel(\"Model\")\n",
    "plt.ylabel(\"Accuracy\")\n",
    "plt.show()"
   ]
  },
  {
   "cell_type": "code",
   "execution_count": null,
   "metadata": {
    "colab": {
     "base_uri": "https://localhost:8080/"
    },
    "id": "doLs8uCWjHrG",
    "outputId": "0cf355d4-82c2-47a8-b17e-1a344f95626c"
   },
   "outputs": [],
   "source": [
    "# Do the same for recall\n",
    "\n",
    "Models_Recall = [CNN_Results_1[2],CNN_Results_2[2],CNN_Results_3[2],CNN_Results_4[2],]\n",
    "\n",
    "Models_Recall"
   ]
  },
  {
   "cell_type": "code",
   "execution_count": null,
   "metadata": {
    "colab": {
     "base_uri": "https://localhost:8080/",
     "height": 472
    },
    "id": "NekakXsRjUW9",
    "outputId": "ac9ca965-c26d-4a8f-c01c-1525df86d5ed"
   },
   "outputs": [],
   "source": [
    "sns.lineplot(x = [\"CNN - 1\",\"CNN 2\",\"CNN 3\", \"CNN 4\"],y = Models_Recall)\n",
    "\n",
    "plt.title(\"Recall of Neural Network Models\")\n",
    "plt.xlabel(\"Model\")\n",
    "plt.ylabel(\"Recall\")\n",
    "plt.show()"
   ]
  },
  {
   "cell_type": "markdown",
   "metadata": {
    "id": "VoDvI12FVyFh"
   },
   "source": [
    "### Review of neural networks implemented above\n",
    "\n",
    "* Base Neural Netork: No convolution. 3 layers.\n",
    "* CNN 1: One Convolution layer\n",
    "* CNN 2: Three Convolution Layers\n",
    "* CNN 3: Dropout of 0.25 added\n",
    "* CNN 4: Regularizer added"
   ]
  },
  {
   "cell_type": "markdown",
   "metadata": {
    "id": "Vb8M6b2PW8ky"
   },
   "source": [
    "# Final Model Evaluation\n",
    "\n",
    "Based on the accuracies above, the first neural network with one convolution layers and no regularizers or drop out had the highest accuracy.\n",
    "\n",
    "Ultimately, all models had accuracies within a  percentage point from one - another. It would not be surprising if one of the models with regularization performed better on a different data set with significantly more records since the regularizers make it less likely for them to be overfit on the training data.\n",
    "\n",
    "As stated above, the decision to pick a final model will be based on the accuracy and recall parameters, with recall being the priority. Even though model 4 has the lowest accuracy, it is the final selection because it has the highest recall. It's accuracy is only lower than the first model by around 1%. Yet it's recall is 3% higher than the rest of the models on the larger training data set. Higher recall could imply more lives saved.\n",
    "\n",
    "In addition, here is also some further evidence supporting model 4 being the best. In the analysis below, we determined the variability of the accuracy values in the last 5 and 10 epochs. Model 4 had one of the lower variabilities when reviewing the plots off the accuracy/loss over the epochs. While model 3's was technically the lowest, model 4 was next.\n",
    "\n",
    "We choose model 4 as our model because it has a higher recall than all models, ranked second in terms off having less variability, and had a similar accuracy to the other models."
   ]
  },
  {
   "cell_type": "code",
   "execution_count": null,
   "metadata": {
    "colab": {
     "base_uri": "https://localhost:8080/",
     "height": 246
    },
    "id": "mO5V4Ccr2mCG",
    "outputId": "6beb1286-2cce-40c3-8900-d725317def15"
   },
   "outputs": [],
   "source": [
    "# First get the Last 10 values of the validation accuracy and store them in an array\n",
    "\n",
    "cnn_1_acc_last_10 = cnn_model_1_val_dict[\"val_accuracy\"][20:]\n",
    "\n",
    "cnn_2_acc_last_10 = cnn_model_2_val_dict[\"val_accuracy\"][20:]\n",
    "\n",
    "cnn_3_acc_last_10 = cnn_model_3_val_dict[\"val_acc\"][20:]\n",
    "\n",
    "cnn_4_acc_last_10 = cnn_model_4_val_dict[\"val_acc\"][20:]\n",
    "\n",
    "\n",
    "# Get the standard deviation off those values\n",
    "\n",
    "cnn_1_acc_std = np.std(cnn_1_acc_last_10)\n",
    "\n",
    "cnn_2_acc_std = np.std(cnn_2_acc_last_10)\n",
    "\n",
    "cnn_3_acc_std = np.std(cnn_3_acc_last_10)\n",
    "\n",
    "cnn_4_acc_std = np.std(cnn_4_acc_last_10)\n"
   ]
  },
  {
   "cell_type": "code",
   "execution_count": null,
   "metadata": {
    "id": "yAPY3LfF2pSx"
   },
   "outputs": [],
   "source": [
    "Models_Std_lst_10 = [cnn_1_acc_std,cnn_2_acc_std,cnn_3_acc_std,cnn_4_acc_std]\n",
    "\n",
    "sns.lineplot(x = [\"CNN - 1\",\"CNN 2\",\"CNN 3\", \"CNN 4\"],y = Models_Std_lst_10)\n",
    "\n",
    "plt.title(\"Standard Deviation in Validation Accuracy During the Last 10 Epochs of Neural Network Models\")\n",
    "plt.xlabel(\"Model\")\n",
    "plt.ylabel(\"Validation Accuracy Standard Deviation\")\n",
    "plt.show()"
   ]
  },
  {
   "cell_type": "markdown",
   "metadata": {
    "id": "jMZWOcaybFo2"
   },
   "source": [
    "## Charting the Standard Deviation in Accuracy during the Last 5 Epochs"
   ]
  },
  {
   "cell_type": "code",
   "execution_count": null,
   "metadata": {
    "id": "c70tL33V2s4G"
   },
   "outputs": [],
   "source": [
    "# First get the Last 5 values of the validation accuracy and store them in an array\n",
    "\n",
    "cnn_1_acc_last_5 = cnn_model_1_val_dict[\"val_accuracy\"][25:]\n",
    "\n",
    "cnn_2_acc_last_5 = cnn_model_2_val_dict[\"val_accuracy\"][25:]\n",
    "\n",
    "cnn_3_acc_last_5 = cnn_model_3_val_dict[\"val_acc\"][25:]\n",
    "\n",
    "cnn_4_acc_last_5 = cnn_model_4_val_dict[\"val_acc\"][25:]\n",
    "\n",
    "\n",
    "# Get the standard deviation off those values\n",
    "\n",
    "cnn_1_acc_std_5 = np.std(cnn_1_acc_last_5)\n",
    "\n",
    "cnn_2_acc_std_5 = np.std(cnn_2_acc_last_5)\n",
    "\n",
    "cnn_3_acc_std_5 = np.std(cnn_3_acc_last_5)\n",
    "\n",
    "cnn_4_acc_std_5 = np.std(cnn_4_acc_last_5)\n"
   ]
  },
  {
   "cell_type": "code",
   "execution_count": null,
   "metadata": {
    "id": "D5y0Tgle2uj0"
   },
   "outputs": [],
   "source": [
    "Models_Std_lst_5 = [cnn_1_acc_std_5,cnn_2_acc_std_5,cnn_3_acc_std_5,cnn_4_acc_std_5]\n",
    "\n",
    "sns.lineplot(x = [\"CNN - 1\",\"CNN 2\",\"CNN 3\", \"CNN 4\"],y = Models_Std_lst_5)\n",
    "\n",
    "plt.title(\"Standard Deviation in Validation Accuracy During the Last 5 Epochs of Neural Network Models\")\n",
    "plt.xlabel(\"Model\")\n",
    "plt.ylabel(\"Validation Accuracy Standard Deviation\")\n",
    "plt.show()"
   ]
  },
  {
   "cell_type": "code",
   "execution_count": null,
   "metadata": {
    "colab": {
     "base_uri": "https://localhost:8080/"
    },
    "id": "vGAwM2ll3HOw",
    "outputId": "0f19987f-fdae-45f5-8d70-9a3926f0ea10"
   },
   "outputs": [],
   "source": [
    "for i in range(0,4):\n",
    "    print((Models_Std_lst_10[i]-Models_Std_lst_5[i])/(Models_Std_lst_10[i]))"
   ]
  },
  {
   "cell_type": "markdown",
   "metadata": {
    "id": "cQl02MVEbL_Z"
   },
   "source": [
    "The Standard Deviation in the accuracy decreased for CNN models 1. It remained roughly the same in model 3, but increased in Models 2 and 4. Indicating that the models were getting more stable in their predictions. For CNN Model 2, the standard deviation increased instead."
   ]
  },
  {
   "cell_type": "markdown",
   "metadata": {
    "id": "xQmWFv2VbZm6"
   },
   "source": [
    "Even though CNN model 2 had the highest accuracy, because it showed a high variance in accuracy during the epochs it will not be the final model selected."
   ]
  },
  {
   "cell_type": "markdown",
   "metadata": {
    "id": "BgI8C7l_cZd6"
   },
   "source": [
    "Let's look at some of the parameters in the selected model."
   ]
  },
  {
   "cell_type": "code",
   "execution_count": null,
   "metadata": {
    "colab": {
     "base_uri": "https://localhost:8080/"
    },
    "id": "2OgQfroAcVkD",
    "outputId": "da76a320-534c-4553-e41b-19028ed8501d"
   },
   "outputs": [],
   "source": [
    "model_cnn_4.summary()"
   ]
  },
  {
   "cell_type": "markdown",
   "metadata": {
    "id": "v-VPQU-6cqbA"
   },
   "source": [
    "The final model is a convolutional neural network model. It consists of 3 convolutional layers, 3 pooling layers, a flattening layer, and two final dense layers. The convolutional layers have filters of size (3,3). The first layer has 32 filters, followed by 8 filters in the second.\n",
    "\n",
    "Each layer has a dropout for regularization.\n",
    "\n",
    "Max pooling is done with a (2,2) dimension. The first dense layer contains 30 neurons, and the output layer contains one neuron with a sigmoid activation function. The final model has a 94.5% accuracy.\n",
    "\n"
   ]
  },
  {
   "cell_type": "markdown",
   "metadata": {
    "id": "bwPtCgV57SfG"
   },
   "source": [
    "# Feature Analysis\n",
    "\n",
    "Let's look at the features and the parts of the image our model emphasized to determine if a lung was pneumatic. Given the amount of data in an image, we will show images of lungs from the data set and highlight the portions that were activated by the model."
   ]
  },
  {
   "cell_type": "code",
   "execution_count": null,
   "metadata": {
    "colab": {
     "base_uri": "https://localhost:8080/",
     "height": 452
    },
    "id": "nfnAJtCi-y04",
    "outputId": "dc0e3548-9647-4245-e277-1434363678e2"
   },
   "outputs": [],
   "source": [
    "from keras.preprocessing import image\n",
    "\n",
    "img_path = 'chest_xray/train/NORMAL/IM-0115-0001.jpeg'\n",
    "\n",
    "\n",
    "img = image.load_img(img_path, target_size=(256, 256))\n",
    "img_tensor = image.img_to_array(img)\n",
    "img_tensor = np.expand_dims(img_tensor, axis=0)\n",
    "\n",
    "#Follow the Original Model Preprocessing\n",
    "img_tensor /= 255.\n",
    "\n",
    "#Check tensor shape\n",
    "print(img_tensor.shape)\n",
    "\n",
    "#Preview an image\n",
    "plt.imshow(img_tensor[0])\n",
    "plt.show()"
   ]
  },
  {
   "cell_type": "code",
   "execution_count": null,
   "metadata": {
    "colab": {
     "base_uri": "https://localhost:8080/",
     "height": 1000
    },
    "id": "PfPGnzYU9rI7",
    "outputId": "aec802e9-8788-42a1-9aab-5e3302bd65c7"
   },
   "outputs": [],
   "source": [
    "bacteria_img_path = 'chest_xray/test/PNEUMONIA/person82_bacteria_402.jpeg'\n",
    "virus_img_path = 'chest_xray/test/PNEUMONIA/person11_virus_38.jpeg'\n",
    "normal_img_path = 'chest_xray/train/NORMAL/IM-0115-0001.jpeg'\n",
    "\n",
    "#Create tensor for normal Image\n",
    "normal_img = image.load_img(normal_img_path, target_size=(256, 256))\n",
    "normal_img_tensor = image.img_to_array(normal_img)\n",
    "normal_img_tensor = np.expand_dims(normal_img_tensor, axis=0)\n",
    "\n",
    "#Create tensor for bacterial pneumonia image\n",
    "bacteria_img = image.load_img(bacteria_img_path, target_size=(256, 256))\n",
    "bacteria_img_tensor = image.img_to_array(bacteria_img)\n",
    "bacteria_img_tensor = np.expand_dims(bacteria_img_tensor, axis=0)\n",
    "\n",
    "#Create tensor for viral pneumonia image\n",
    "virus_img = image.load_img(virus_img_path, target_size=(256, 256))\n",
    "virus_img_tensor = image.img_to_array(virus_img)\n",
    "virus_img_tensor = np.expand_dims(virus_img_tensor, axis=0)\n",
    "\n",
    "\n",
    "#Follow the Original Model Preprocessing\n",
    "normal_img_tensor /= 255.\n",
    "bacteria_img_tensor /=255.\n",
    "virus_img_tensor /=255.\n",
    "\n",
    "#Check tensor shape\n",
    "print(normal_img_tensor.shape)\n",
    "print(bacteria_img_tensor.shape)\n",
    "print(virus_img_tensor.shape)\n",
    "\n",
    "#Preview an image\n",
    "print(\"Normal Lung\")\n",
    "plt.imshow(normal_img_tensor[0])\n",
    "plt.show()\n",
    "\n",
    "print(\"Bacterial Pneumonia Lung\")\n",
    "plt.imshow(bacteria_img_tensor[0])\n",
    "plt.show()\n",
    "\n",
    "print(\"Viral Pneumonia Lung\")\n",
    "plt.imshow(virus_img_tensor[0])\n",
    "plt.show()"
   ]
  },
  {
   "cell_type": "code",
   "execution_count": null,
   "metadata": {
    "id": "YOeCXWuc-y04"
   },
   "outputs": [],
   "source": [
    "# Extract model layer outputs\n",
    "layer_outputs = [layer.output for layer in model_cnn_4.layers[:8]]\n",
    "\n",
    "# Display the models feature maps\n",
    "activation_model = models.Model(inputs=model_cnn_4.input, outputs=layer_outputs)"
   ]
  },
  {
   "cell_type": "code",
   "execution_count": null,
   "metadata": {
    "colab": {
     "base_uri": "https://localhost:8080/"
    },
    "id": "83v_bhLfDkrk",
    "outputId": "10b98bff-84d5-43d0-8a29-00ca2f20c5d1"
   },
   "outputs": [],
   "source": [
    "# Returns an array for each activation layer on the bacteria image\n",
    "bacterial_activations = activation_model.predict(bacteria_img_tensor)"
   ]
  },
  {
   "cell_type": "code",
   "execution_count": null,
   "metadata": {
    "colab": {
     "base_uri": "https://localhost:8080/",
     "height": 1000
    },
    "id": "SEHVaUj6-y04",
    "outputId": "c8460833-ac47-477c-d567-99ff1d3fcaec"
   },
   "outputs": [],
   "source": [
    "fig, axes = plt.subplots(8, 4, figsize=(15,30))\n",
    "for i in range(32):\n",
    "    row = i//4\n",
    "    column = i%4\n",
    "    ax = axes[row, column]\n",
    "    bacterial_first_layer_activation = bacterial_activations[0]\n",
    "    ax.matshow(bacterial_first_layer_activation[0, :, :, i], cmap='viridis')"
   ]
  },
  {
   "cell_type": "markdown",
   "metadata": {
    "id": "kXGsZbxQFbIK"
   },
   "source": [
    "The above images display the feature maps generated by each convolutional layer. These maps identify unique patterns."
   ]
  },
  {
   "cell_type": "code",
   "execution_count": null,
   "metadata": {
    "colab": {
     "base_uri": "https://localhost:8080/"
    },
    "id": "LMPz0RGE10s4",
    "outputId": "853c9215-21ce-4034-9240-0eb420d7d864"
   },
   "outputs": [],
   "source": [
    "# Returns an array for each activation layer on the virus image\n",
    "viral_activations = activation_model.predict(virus_img_tensor)"
   ]
  },
  {
   "cell_type": "code",
   "execution_count": null,
   "metadata": {
    "colab": {
     "base_uri": "https://localhost:8080/",
     "height": 1000
    },
    "id": "VLHEPaTA14OU",
    "outputId": "cfa3dbce-c252-4223-874d-4b0240c74285"
   },
   "outputs": [],
   "source": [
    "fig, axes = plt.subplots(8, 4, figsize=(12,24))\n",
    "for i in range(32):\n",
    "    row = i//4\n",
    "    column = i%4\n",
    "    ax = axes[row, column]\n",
    "    viral_first_layer_activation = viral_activations[0]\n",
    "    ax.matshow(viral_first_layer_activation[0, :, :, i], cmap='viridis')"
   ]
  },
  {
   "attachments": {},
   "cell_type": "markdown",
   "metadata": {
    "id": "P593lUrCGjlD"
   },
   "source": [
    "## Conclusions/Recommendations\n",
    "\n",
    "* Recommend that you move forward with using the final model identified in the study since the model was 94% accurate in it’s prediction and identified 92% off the patients.\n",
    "* Further research on how to operationalize this model in hospital workflows. Examples:\n",
    "* How are false positives and negatives handled in a hospital? \n",
    "  * Is there a method for clinicians to quickly determine that the patient does not have pneumonia?\n",
    "* Training on larger and more diverse data sets are needed before the model is used on patients over 5 years old."
   ]
  },
  {
   "cell_type": "markdown",
   "metadata": {
    "id": "62BEwEZKRBvP"
   },
   "source": [
    "# Future Projects\n",
    "\n",
    "\n",
    "\n",
    "*   Train the model on x-rays in other age groups. Currently, the data is restricted to the under 5 age group. Increase to adults.\n",
    "*   Train the model on other pathogens that can cause pneumonia such as fungi.\n",
    "* Enhance the model to predict the source off pneumonia (i.e. bacteria, virus, or fungi). This could allow clinicians to administer the appropriate medicines faster.\n",
    "\n"
   ]
  }
 ],
 "metadata": {
  "colab": {
   "machine_shape": "hm",
   "provenance": []
  },
  "kernelspec": {
   "display_name": "Python 3",
   "language": "python",
   "name": "python3"
  },
  "language_info": {
   "codemirror_mode": {
    "name": "ipython",
    "version": 3
   },
   "file_extension": ".py",
   "mimetype": "text/x-python",
   "name": "python",
   "nbconvert_exporter": "python",
   "pygments_lexer": "ipython3",
   "version": "3.8.5"
  }
 },
 "nbformat": 4,
 "nbformat_minor": 1
}
